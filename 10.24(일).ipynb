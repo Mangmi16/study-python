{
 "cells": [
  {
   "cell_type": "markdown",
   "id": "d3dcd8f6",
   "metadata": {},
   "source": []
  },
  {
   "cell_type": "markdown",
   "id": "63f28b55",
   "metadata": {},
   "source": []
  },
  {
   "cell_type": "markdown",
   "id": "45c67555",
   "metadata": {},
   "source": [
    "# 행맨 게임 만들기"
   ]
  },
  {
   "cell_type": "code",
   "execution_count": null,
   "id": "1d88c5d2",
   "metadata": {},
   "outputs": [],
   "source": [
    "while True :  # 2가지 조건이 모두 만족되면 2~5을 반복한다\n",
    "    #2-1.라이프(생명포인트) 출력\n",
    "    #2-2.단어의 글자수 만큼 \"_\" 출력한다 \n",
    "    print(\"현재 life는 :\", 라이프)\n",
    "    print(빈칸)\n",
    "\n",
    "    #3. user에게서 입력을 받는다.\n",
    "    user_input = input(\"글자를 하나 입력하세요: \")\n",
    "\n",
    "    #4. user_input이 the_word[] 중 포함되는지 확인 for loop 써서 단어의 스펠링 글자단위 확인\n",
    "    맞춘글자수 = 0 \n",
    "    for i in range(0,len(the_word) ):\n",
    "\n",
    "        \n",
    "        if the_word[i] == user_input: #5-1. 사용자가 맞추면 1. 맞춰야하는 글자수 -1, 2. 해당 위치의 글자수 -1\n",
    "            맞춰야하는글자 -= 1\n",
    "            빈칸[i] = user_input\n",
    "            맞춘글자수 += 1\n",
    "\n",
    "    if 맞춘글자수 ==0 :\n",
    "        life_point -= 1\n",
    "\n",
    "    if life_point == 0 :\n",
    "        print(\"사망\")\n",
    "        break\n",
    "    if 맞춰야하는글자 == 0:\n",
    "        print(\"승리\")\n",
    "        break"
   ]
  },
  {
   "cell_type": "code",
   "execution_count": null,
   "id": "37b99fcd",
   "metadata": {},
   "outputs": [
    {
     "name": "stdout",
     "output_type": "stream",
     "text": [
      "life point is :  5\n",
      "_ _ _ \n",
      "Guess a letter: j\n",
      "current life point is :  4\n",
      "['_', '_', '_']\n",
      "Guess a letter: c\n",
      "current life point is :  4\n",
      "['c', '_', '_']\n"
     ]
    }
   ],
   "source": [
    "word_list = [\"apple\", \"banana\", \"Cat\"]\n",
    "\n",
    "# 랜덤단어 생성\n",
    "import random\n",
    "the_word = random.choice(word_list)\n",
    "\n",
    "\n",
    "# 라이프와 남은 글자수 표시\n",
    "life_point = 5\n",
    "char_left = len(the_word)\n",
    "print(\"life point is : \",life_point)\n",
    "\n",
    "\n",
    "blanks = list(\"_\"* len(the_word))\n",
    "print(\"_ \"* len(the_word))\n",
    "\n",
    "\n",
    "while life_point > 0 and char_left > 0 :\n",
    "    user_input = input(\"Guess a letter: \")\n",
    "    correct_indicator = 0\n",
    "\n",
    "    for i in range(0, len(the_word)):\n",
    "        #print(\"current letter: \", the_word[i])\n",
    "\n",
    "        if user_input.lower() == the_word[i].lower():\n",
    "            blanks[i] = user_input.lower()\n",
    "            #print(\"blank\", blanks)\n",
    "            char_left -= 1\n",
    "            correct_indicator += 1\n",
    "        \n",
    "    if correct_indicator == 0 :\n",
    "        life_point -= 1\n",
    "    \n",
    "    print(\"current life point is : \",life_point)\n",
    "    print(blanks)\n",
    "\n",
    "if life_point == 0:\n",
    "    print(\"Dead\")\n",
    "else :\n",
    "    print(\"Victory!\")"
   ]
  },
  {
   "cell_type": "code",
   "execution_count": null,
   "id": "1c0a3003",
   "metadata": {},
   "outputs": [
    {
     "name": "stdout",
     "output_type": "stream",
     "text": [
      "answer :  frau\n",
      "life point is :  5\n",
      "_ _ _ _ \n"
     ]
    }
   ],
   "source": [
    "words = [\"frau\",\"reise\",\"strand\"]\n",
    "\n",
    "import random\n",
    "\n",
    "word = random.choice(words)\n",
    "print(\"answer : \",word)\n",
    "\n",
    "restlich_point = 5\n",
    "char_left = len(word)\n",
    "print(\"life point is : \",restlich_point)\n",
    "\n",
    "blanks = list(\"_\"* len(word))\n",
    "print(\"_ \"* len(word))\n",
    "\n",
    "while restlich_point > 0 and char_left > 0 :\n",
    "    user_input = input(\"Guess a letter: \")\n",
    "    correct_indicator = 0\n",
    "\n",
    "    for i in range(0, len(word)):\n",
    "\n",
    "        if user_input.lower() == word[i].lower():\n",
    "            blanks[i] = user_input.lower()\n",
    "           \n",
    "            char_left -= 1\n",
    "            correct_indicator += 1\n",
    "        \n",
    "    if correct_indicator == 0 :\n",
    "        restlich_point -= 1\n",
    "    \n",
    "    print(\"current life point is : \",restlich_point)\n",
    "    print(blanks)\n",
    "\n",
    "if restlich_point == 0:\n",
    "    print(\"Sterben\")\n",
    "else :\n",
    "    print(\"Sher Gut!\")\n",
    "\n",
    "\n",
    "        \n",
    "        \n",
    "    "
   ]
  },
  {
   "cell_type": "code",
   "execution_count": null,
   "id": "cd759088",
   "metadata": {},
   "outputs": [],
   "source": []
  },
  {
   "cell_type": "code",
   "execution_count": null,
   "id": "1fc9d5e0",
   "metadata": {},
   "outputs": [],
   "source": []
  }
 ],
 "metadata": {
  "kernelspec": {
   "display_name": "Python 3 (ipykernel)",
   "language": "python",
   "name": "python3"
  },
  "language_info": {
   "codemirror_mode": {
    "name": "ipython",
    "version": 3
   },
   "file_extension": ".py",
   "mimetype": "text/x-python",
   "name": "python",
   "nbconvert_exporter": "python",
   "pygments_lexer": "ipython3",
   "version": "3.8.3"
  }
 },
 "nbformat": 4,
 "nbformat_minor": 5
}
