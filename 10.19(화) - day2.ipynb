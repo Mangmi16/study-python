{
 "cells": [
  {
   "cell_type": "markdown",
   "id": "4bfbe190",
   "metadata": {},
   "source": [
    "입/출력\n",
    "\n",
    "1. 사용자에게서\n",
    "2. 문자열을 입력받아\n",
    "3. 문자열의 길이를 계산해서\n",
    "4. (문자열을 "
   ]
  },
  {
   "cell_type": "code",
   "execution_count": null,
   "id": "6eb8ba8f",
   "metadata": {},
   "outputs": [],
   "source": [
    "str1 = input('문자열을 입력하시오')\n",
    "str1 = len(str1)\n",
    "print = ()\n"
   ]
  },
  {
   "cell_type": "markdown",
   "id": "5026e1ac",
   "metadata": {},
   "source": [
    "### 데이터 타입\n",
    "\n",
    "1.정수\n",
    "2.실수\n",
    "\n",
    "\n",
    "3. string\n",
    "4. bollean (참/거짓)\n",
    "True\n",
    "False\n",
    "\n"
   ]
  },
  {
   "cell_type": "code",
   "execution_count": 3,
   "id": "e98ebe96",
   "metadata": {},
   "outputs": [
    {
     "name": "stdout",
     "output_type": "stream",
     "text": [
      "6.0\n"
     ]
    }
   ],
   "source": [
    "print(6 + 4 / 2 - ( 1 *2))"
   ]
  },
  {
   "cell_type": "code",
   "execution_count": 2,
   "id": "51e0ff20",
   "metadata": {},
   "outputs": [
    {
     "name": "stdout",
     "output_type": "stream",
     "text": [
      "2\n"
     ]
    }
   ],
   "source": [
    "print(1+1)"
   ]
  },
  {
   "cell_type": "code",
   "execution_count": 41,
   "id": "d7b260ff",
   "metadata": {},
   "outputs": [
    {
     "name": "stdout",
     "output_type": "stream",
     "text": [
      "두자리 수를 입력하세요85\n",
      "13\n"
     ]
    }
   ],
   "source": [
    "#사용자에게서 두자리 수를 받아 10의 자리와 1의 자리를 더해라\n",
    "\n",
    "no1 = input(\"두자리 수를 입력하세요\")\n",
    "print(int(no1[0])+int(no1[1]))\n",
    "\n"
   ]
  },
  {
   "cell_type": "code",
   "execution_count": 1,
   "id": "75a852b4",
   "metadata": {},
   "outputs": [
    {
     "name": "stdout",
     "output_type": "stream",
     "text": [
      "몸무게를 입력하시오(kg)70\n",
      "키를 입력하시오(m)1.7\n",
      "24.221453287197235\n"
     ]
    }
   ],
   "source": [
    "kg = input(\"몸무게를 입력하시오(kg)\")\n",
    "m = input(\"키를 입력하시오(m)\")\n",
    "\n",
    "\n",
    "kg_int = int(kg)\n",
    "m_float = float(m)\n",
    "bmi = print(kg_int/m_float**2)\n",
    "\n"
   ]
  },
  {
   "cell_type": "code",
   "execution_count": 6,
   "id": "c928744e",
   "metadata": {},
   "outputs": [
    {
     "name": "stdout",
     "output_type": "stream",
     "text": [
      "키가 몇이에요?173\n",
      "입장\n"
     ]
    }
   ],
   "source": [
    "#키가 120 미만이면 입장금지\n",
    "#입장료는? 나이가 18세 이상이면 5천원, \n",
    "#미만이면 3천원\n",
    "# \n",
    "키 = input(\"키가 몇이에요?\")\n",
    "if int(키) > 120 :\n",
    "    print(\"입장\")\n",
    "    \n",
    "else: print(\"입장불가\")"
   ]
  },
  {
   "cell_type": "markdown",
   "id": "f433093b",
   "metadata": {},
   "source": [
    "### if 조건\n",
    "        실행문장 1\n",
    "        실행문장 2\n",
    "        실행문장 3\n",
    "\n",
    "elif 이프 이후 조건"
   ]
  },
  {
   "cell_type": "code",
   "execution_count": 7,
   "id": "414af647",
   "metadata": {},
   "outputs": [
    {
     "name": "stdout",
     "output_type": "stream",
     "text": [
      "키가 몇이에요?170\n",
      "몇 살 이에요?18\n",
      "사진을 찍습니까? y/ny\n",
      "입장\n",
      "수능생은 공짜\n",
      "인화료는 1만원 입니다.\n"
     ]
    }
   ],
   "source": [
    "키 = input(\"키가 몇이에요?\")\n",
    "나이 = input(\"몇 살 이에요?\")\n",
    "사진 = input(\"사진을 찍습니까? y/n\")\n",
    "if int(키) > 120 :\n",
    "    print(\"입장\")\n",
    "\n",
    "    if int(나이) >18 :\n",
    "        print(\"입장료는 8000원입니다.\")\n",
    "    elif int(나이) == 18:    \n",
    "        print(\"수능생은 공짜\")    \n",
    "    else: print(\"입장료는 3000원 입니다.\")\n",
    "    \n",
    "    #multiple cinditional\n",
    "    if 사진 == 'y':\n",
    "        print(\"인화료는 1만원 입니다.\")\n",
    "        \n",
    "    else :\n",
    "        print(\"즐거운 시간 보내세요\")\n",
    "        \n",
    "    \n",
    "else: print(\"입장불가\")"
   ]
  },
  {
   "cell_type": "markdown",
   "id": "53cfefe8",
   "metadata": {},
   "source": [
    "실습 사용자에게 숫자를 입력 받아서 입력받은 숫자가 홀수인지 짝수 인지\n",
    "구분하는코드\n",
    "### 나머지를 구함 %"
   ]
  },
  {
   "cell_type": "code",
   "execution_count": 24,
   "id": "ec75e797",
   "metadata": {},
   "outputs": [
    {
     "name": "stdout",
     "output_type": "stream",
     "text": [
      "숫자를 입력하시오2\n",
      "짝수\n"
     ]
    }
   ],
   "source": [
    "숫자 = int(input(\"숫자를 입력하시오\")) \n",
    "\n",
    "if 숫자%2 == 0:\n",
    "    print(\"짝수\")\n",
    "else :\n",
    "    print(\"홀수\")\n"
   ]
  },
  {
   "cell_type": "markdown",
   "id": "b45b68c9",
   "metadata": {},
   "source": [
    "## 조건문 종휴\n",
    "#### 조건문 1개\n",
    "#### 조건문 안에 조건문<- Nested\n",
    "#### if 연달아서 사용하는 ,- multi condition\n",
    "* a and b\n",
    "* a or b\n",
    "* a is not b :\n",
    "\n"
   ]
  },
  {
   "cell_type": "code",
   "execution_count": 7,
   "id": "95189093",
   "metadata": {},
   "outputs": [
    {
     "name": "stdout",
     "output_type": "stream",
     "text": [
      "몸무게를 입력하시오(kg)54\n",
      "키를 입력하시오(m)1.53\n",
      "23.06805074971165\n",
      "정상입니다\n"
     ]
    }
   ],
   "source": [
    "kg = input(\"몸무게를 입력하시오(kg)\")\n",
    "m = input(\"키를 입력하시오(m)\")\n",
    "\n",
    "\n",
    "kg_int = int(kg)\n",
    "m_float = float(m)\n",
    "bmi = kg_int/m_float**2\n",
    "\n",
    "print(bmi)\n",
    "\n",
    "if bmi <= 18.5:\n",
    "    print(\"저체중입니다.\")\n",
    "elif 18.5<bmi and bmi<=25:\n",
    "    print(\"정상입니다\")\n",
    "elif 25<bmi and bmi<=30:\n",
    "\n",
    "    print(\"과체중입니다.\")\n",
    "elif 30<bmi and bmi<=35:\n",
    "    print(\"비만입니다.\")\n",
    "elif i35<bmi:\n",
    "    print(\"고도비만입니다.\")    "
   ]
  },
  {
   "cell_type": "markdown",
   "id": "e9783a08",
   "metadata": {},
   "source": [
    "실습3. 사용자로부터 연도를 입력받아 해당 연도가 윤년인지 판단하시오 \n",
    "* 윤년조건\n",
    "* 4로 나누어 떨어지는 해는 윤년.\n",
    "* 그 중에서 100으로 나누어 떨어지는 해는 평년\n",
    "* 다만 400으로 나우어 떨어지는 해는 다시 윤년"
   ]
  },
  {
   "cell_type": "code",
   "execution_count": 24,
   "id": "5080a157",
   "metadata": {},
   "outputs": [
    {
     "name": "stdout",
     "output_type": "stream",
     "text": [
      "년도를 입력하세요2024\n",
      "윤년\n"
     ]
    }
   ],
   "source": [
    "년도 = int(input(\"년도를 입력하세요\"))\n",
    "\n",
    "\n",
    "if 년도%4 == 0 and 년도%100 !=0 or 년도%400 == 0:\n",
    "    print(\"윤년\")\n",
    "elif 년도%100 == 0  :\n",
    "        print(\"평년\")\n",
    "else :\n",
    "    print(\"평년\")\n",
    "\n",
    "\n",
    "\n"
   ]
  },
  {
   "cell_type": "code",
   "execution_count": 29,
   "id": "925f0390",
   "metadata": {},
   "outputs": [
    {
     "name": "stdout",
     "output_type": "stream",
     "text": [
      "년도를 입력하세요2024\n",
      "윤년\n"
     ]
    }
   ],
   "source": [
    "year = int(input(\"년도를 입력하세요\"))\n",
    "if year % 4==0:\n",
    "    if year % 100== 0:\n",
    "        if year % 400==0:\n",
    "            print(\"윤년\")\n",
    "        else :\n",
    "            print(\"평년\")\n",
    "    else :\n",
    "        print(\"윤년\")\n",
    "else : \n",
    "    print(\"평년\")\n",
    "        \n",
    "    "
   ]
  },
  {
   "cell_type": "code",
   "execution_count": 7,
   "id": "3b66ed86",
   "metadata": {},
   "outputs": [
    {
     "data": {
      "text/plain": [
       "(28, 22, 34, 3, 28, 27)"
      ]
     },
     "execution_count": 7,
     "metadata": {},
     "output_type": "execute_result"
    }
   ],
   "source": [
    "import random\n",
    "#중복된 것 빼기 리스트 만든뒤  \n",
    "# while 문으로 리스트 안에 중복 되는 수가 없을 때 까지 재추첨\n",
    "random_int = random.randint(1,45)\n",
    "random_int1 = random.randint(1,45)\n",
    "random_int2 = random.randint(1,45)\n",
    "random_int3 = random.randint(1,45)\n",
    "random_int4 = random.randint(1,45)\n",
    "random_int5 = random.randint(1,45)\n",
    "\n",
    "random_int, random_int1, random_int2, random_int3, random_int4, random_int5"
   ]
  },
  {
   "cell_type": "code",
   "execution_count": 7,
   "id": "1380b3d2",
   "metadata": {
    "scrolled": true
   },
   "outputs": [
    {
     "name": "stdout",
     "output_type": "stream",
     "text": [
      "앞면\n"
     ]
    }
   ],
   "source": [
    "import random \n",
    "\n",
    "random_int = random.randint(0,1)\n",
    "if random_int == 0:\n",
    "    print(\"앞면\")\n",
    "else :\n",
    "    print(\"뒷면\")"
   ]
  },
  {
   "cell_type": "code",
   "execution_count": 4,
   "id": "57a6dd57",
   "metadata": {
    "scrolled": true
   },
   "outputs": [
    {
     "name": "stdout",
     "output_type": "stream",
     "text": [
      "가위 바위 보!보\n",
      "사용자 :  2\n",
      "컴퓨터 :  0\n",
      "패배\n"
     ]
    }
   ],
   "source": [
    "뭐냈냐 = input(\"가위 바위 보!\")\n",
    "if 뭐냈냐 == \"가위\":\n",
    "    뭐냈냐 = 0\n",
    "elif 뭐냈냐 == \"바위\":\n",
    "    뭐냈냐 = 1\n",
    "elif 뭐냈냐 == \"보\":\n",
    "    뭐냈냐 = 2\n",
    "import random\n",
    "컴퓨터 = random.randint(0,2)\n",
    "\n",
    "print(\"사용자 : \",뭐냈냐)\n",
    "print(\"컴퓨터 : \", 컴퓨터)\n",
    "if 컴퓨터-뭐냈냐== 0:\n",
    "    print(\"무승부\")\n",
    "elif 컴퓨터==0 and 뭐냈냐== 1:\n",
    "    print(\"승리\")\n",
    "elif 컴퓨터==1 and 뭐냈냐== 2 :\n",
    "    print(\"승리\")\n",
    "elif 컴퓨터==2 and 뭐냈냐== 0:\n",
    "    print(\"승리\")\n",
    "else :\n",
    "    print(\"패배\")"
   ]
  },
  {
   "cell_type": "code",
   "execution_count": null,
   "id": "5e0ff56f",
   "metadata": {},
   "outputs": [],
   "source": []
  },
  {
   "cell_type": "markdown",
   "id": "3c62dfaa",
   "metadata": {},
   "source": [
    "# List <- 여러 개의 값을 변수 하나에 담을때\n",
    "\n",
    "#  데이터의 순서를 반영한다.\n",
    "\n",
    "* =[]\n",
    "\n",
    "* 리스트안의 순서는 인덱스로 표현된다.\n",
    "##### 주의 : 파이썬의 인덱스는 0에서 시작\n",
    "- 역순은 -1부터"
   ]
  },
  {
   "cell_type": "code",
   "execution_count": 30,
   "id": "755cb279",
   "metadata": {},
   "outputs": [
    {
     "name": "stdout",
     "output_type": "stream",
     "text": [
      "['1990-02-03', '홍길동,', 30]\n"
     ]
    }
   ],
   "source": [
    "list1 = [] #일단 빈 리스트를 띄워놓고 나중에 데이터를 추가해 가면서 사용\n",
    "list1 = [\"1990-02-03\", \"홍길동,\", 30]\n",
    "\n",
    "print(list1)"
   ]
  },
  {
   "cell_type": "code",
   "execution_count": 5,
   "id": "c03ac879",
   "metadata": {},
   "outputs": [
    {
     "data": {
      "text/plain": [
       "['append로 추가한 첫번째 내용', '강남아이티', '인서트로 추가한 내용', '캡틴아메리카노']"
      ]
     },
     "execution_count": 5,
     "metadata": {},
     "output_type": "execute_result"
    }
   ],
   "source": [
    "#리스트에 새로운 데이터 추가하기\n",
    "\n",
    "#append\n",
    "list2 = []\n",
    "list2.append(\"append로 추가한 첫번째 내용\")\n",
    "list2.append(\"강남아이티\")\n",
    "list2.append(\"캡틴아메리카노\")\n",
    "list2\n",
    "# insert (데이터를 추가할 위치를 \"인덱스\"기준으로,\"추가할내용\")\n",
    "list2.insert(2,\"인서트로 추가한 내용\")\n",
    "list2"
   ]
  },
  {
   "cell_type": "code",
   "execution_count": 8,
   "id": "09769299",
   "metadata": {},
   "outputs": [
    {
     "ename": "SyntaxError",
     "evalue": "invalid syntax (Temp/ipykernel_10796/2451048498.py, line 3)",
     "output_type": "error",
     "traceback": [
      "\u001b[1;36m  File \u001b[1;32m\"C:\\Users\\ADMINI~1\\AppData\\Local\\Temp/ipykernel_10796/2451048498.py\"\u001b[1;36m, line \u001b[1;32m3\u001b[0m\n\u001b[1;33m    print(\"삭제전 목록\" :, list2)\u001b[0m\n\u001b[1;37m                   ^\u001b[0m\n\u001b[1;31mSyntaxError\u001b[0m\u001b[1;31m:\u001b[0m invalid syntax\n"
     ]
    }
   ],
   "source": [
    "#리스트에서 데이터 제거하기\n",
    "\n",
    "print(\"삭제전 목록\" :, list2)\n",
    "del list2[2]\n",
    "print(\"del로 삭제후 목록\", list2)"
   ]
  },
  {
   "cell_type": "code",
   "execution_count": 7,
   "id": "6509fc0d",
   "metadata": {},
   "outputs": [
    {
     "name": "stdout",
     "output_type": "stream",
     "text": [
      "del로 삭제한 목록 :  ['append로 추가한 첫번째 내용', '인서트로 추가한 내용', '캡틴아메리카노']\n"
     ]
    }
   ],
   "source": [
    "list2.remove(\"강남아이티\")\n",
    "print(\"del로 삭제한 목록 : \", list2)"
   ]
  },
  {
   "cell_type": "code",
   "execution_count": 8,
   "id": "c4fcb90d",
   "metadata": {},
   "outputs": [
    {
     "name": "stdout",
     "output_type": "stream",
     "text": [
      "정렬 후 list: [1, 2, 5, 5, 6, 46, 56, 74, 465]\n"
     ]
    }
   ],
   "source": [
    "list3 = [1,2,6,74,465,46,5,56,5]\n",
    "# 오름차순정렬\n",
    "list3.sort()\n",
    "print(\"정렬 후 list:\", list3)"
   ]
  },
  {
   "cell_type": "code",
   "execution_count": 10,
   "id": "4850f8c7",
   "metadata": {},
   "outputs": [
    {
     "name": "stdout",
     "output_type": "stream",
     "text": [
      "정렬 후 list: [87, 6, 5, 4, 3, 3, 2, 1]\n"
     ]
    }
   ],
   "source": [
    "list3 = [1,6,2,3,5,87,3,4]\n",
    "list3.sort(reverse=True)\n",
    "print(\"정렬 후 list:\", list3)"
   ]
  },
  {
   "cell_type": "code",
   "execution_count": 3,
   "id": "00efc62f",
   "metadata": {},
   "outputs": [
    {
     "name": "stdout",
     "output_type": "stream",
     "text": [
      "현재 이 과목의 수강 신청자는 ['홍길동', '일지매'] 입니다.\n",
      "목록에 추가할 첫 번 째 학생의 이름을 입력하시오. 전우치\n"
     ]
    },
    {
     "data": {
      "text/plain": [
       "['홍길동', '일지매', '전우치']"
      ]
     },
     "execution_count": 3,
     "metadata": {},
     "output_type": "execute_result"
    }
   ],
   "source": [
    "#과제 \n",
    "\n",
    "list4 = [\"홍길동\", \"일지매\"]\n",
    "print(\"현재 이 과목의 수강 신청자는\", list4, \"입니다.\")\n",
    "\n",
    "학생1 = input(\"목록에 추가할 첫 번 째 학생의 이름을 입력하시오. \")\n",
    "\n",
    "list4.insert(2, 학생1)\n",
    "list4"
   ]
  },
  {
   "cell_type": "code",
   "execution_count": 6,
   "id": "6ad08588",
   "metadata": {},
   "outputs": [
    {
     "ename": "SyntaxError",
     "evalue": "invalid syntax (2272794522.py, line 3)",
     "output_type": "error",
     "traceback": [
      "\u001b[0;36m  File \u001b[0;32m\"/var/folders/cb/87qggcjj1kv9lvkrzx8s53tc0000gn/T/ipykernel_8798/2272794522.py\"\u001b[0;36m, line \u001b[0;32m3\u001b[0m\n\u001b[0;31m    철회 학생 = input(\"수강을 철회하는 학생의 이름을 입력하세요\")\u001b[0m\n\u001b[0m       ^\u001b[0m\n\u001b[0;31mSyntaxError\u001b[0m\u001b[0;31m:\u001b[0m invalid syntax\n"
     ]
    }
   ],
   "source": [
    "list5 = [\"홍길동\", \"일지매\", \"전우치\",\"유관순\"]\n",
    "print(\"현재 수강 신청자는\", list5 ,\"입니다.\")\n",
    "철회 학생 = input(\"수강을 철회하는 학생의 이름을 입력하세요\")\n"
   ]
  },
  {
   "cell_type": "markdown",
   "id": "37b63dab",
   "metadata": {},
   "source": [
    "문자열.split()\n",
    "\n",
    "문자열.split('구분자')\n",
    "\n",
    "문자열.split('구분자', 분할횟수)\n",
    "\n",
    "문자열.split(sep='구분자', maxsplit=분할횟수)\n",
    "\n"
   ]
  },
  {
   "cell_type": "code",
   "execution_count": null,
   "id": "5febddb6",
   "metadata": {},
   "outputs": [],
   "source": []
  },
  {
   "cell_type": "markdown",
   "id": "353a04b5",
   "metadata": {},
   "source": [
    "### 복습\n",
    "\n",
    "가위 바위 보"
   ]
  },
  {
   "cell_type": "code",
   "execution_count": 16,
   "id": "1fb4a705",
   "metadata": {},
   "outputs": [
    {
     "name": "stdout",
     "output_type": "stream",
     "text": [
      "Rock/Scissor/Paperrock\n",
      "사용자 :  0\n",
      "컴퓨터:  1\n",
      "승리하였습니다\n"
     ]
    }
   ],
   "source": [
    "move_user = input(\"Rock/Scissor/Paper\").lower()\n",
    "\n",
    "#사용자 입력을 0,1,2\n",
    "# 0 : 바위\n",
    "# 1 : 가위\n",
    "# 2 : 보자기\n",
    "if move_user == \"rock\":\n",
    "    move_user = 0\n",
    "elif move_user == \"scissor\":\n",
    "    move_user = 1\n",
    "else:\n",
    "    move_user = 2 #paper\n",
    "\n",
    "\n",
    "#2. 컴퓨터가 랜덤으로 가위바위보 하도록 하기\n",
    "\n",
    "move_computer = random.randint(0, 2) \n",
    "\n",
    "#3 각자의 move 출력\n",
    "print(\"사용자 : \", move_user)    \n",
    "print(\"컴퓨터: \", move_computer)\n",
    "\n",
    "#4. 무승부일 경우\n",
    "if move_computer == move_user:\n",
    "    print(\"무승부입니다\")\n",
    "\n",
    "#5. 패배한경우\n",
    "elif (move_computer==0 and move_user == 1):\n",
    "    print(\"패배하였습니다\")\n",
    "elif (move_computer==1 and move_user == 2):\n",
    "    print(\"패배하였습니다\")\n",
    "elif (move_computer==2 and move_user == 0):\n",
    "    print(\"패배하였습니다\")\n",
    "    \n",
    "else :\n",
    "    print(\"승리하였습니다\")\n",
    "\n"
   ]
  },
  {
   "cell_type": "code",
   "execution_count": null,
   "id": "adcb0638",
   "metadata": {},
   "outputs": [],
   "source": []
  }
 ],
 "metadata": {
  "kernelspec": {
   "display_name": "Python 3 (ipykernel)",
   "language": "python",
   "name": "python3"
  },
  "language_info": {
   "codemirror_mode": {
    "name": "ipython",
    "version": 3
   },
   "file_extension": ".py",
   "mimetype": "text/x-python",
   "name": "python",
   "nbconvert_exporter": "python",
   "pygments_lexer": "ipython3",
   "version": "3.8.3"
  }
 },
 "nbformat": 4,
 "nbformat_minor": 5
}
