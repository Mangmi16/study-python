{
 "cells": [
  {
   "cell_type": "markdown",
   "id": "a69522ba",
   "metadata": {},
   "source": [
    "#  실습.1\n",
    "\n",
    "이름으로 이루어진 리스트에서 랜덤으로 이름을 하나 추출하는 코드.\n",
    "조건 : 이름 리스트를 사용자에게서 입력 받아라."
   ]
  },
  {
   "cell_type": "code",
   "execution_count": 25,
   "id": "be6d752a",
   "metadata": {},
   "outputs": [
    {
     "name": "stdout",
     "output_type": "stream",
     "text": [
      "참여할 사람의 이름을 모두 적어주세요.(이름은 ,로 구분해 주세요)전우치, 강감찬, 일지매, 유관순, 이순신\n"
     ]
    },
    {
     "ename": "NameError",
     "evalue": "name 'teilnehme' is not defined",
     "output_type": "error",
     "traceback": [
      "\u001b[1;31m---------------------------------------------------------------------------\u001b[0m",
      "\u001b[1;31mNameError\u001b[0m                                 Traceback (most recent call last)",
      "\u001b[1;32mC:\\Users\\ADMINI~1\\AppData\\Local\\Temp/ipykernel_6596/1431803469.py\u001b[0m in \u001b[0;36m<module>\u001b[1;34m\u001b[0m\n\u001b[0;32m     16\u001b[0m \u001b[1;33m\u001b[0m\u001b[0m\n\u001b[0;32m     17\u001b[0m \u001b[0m당첨자_index\u001b[0m \u001b[1;33m=\u001b[0m \u001b[0mrandom\u001b[0m\u001b[1;33m.\u001b[0m\u001b[0mrandint\u001b[0m\u001b[1;33m(\u001b[0m\u001b[1;36m0\u001b[0m\u001b[1;33m,\u001b[0m\u001b[0mmax_index\u001b[0m\u001b[1;33m-\u001b[0m\u001b[1;36m1\u001b[0m\u001b[1;33m)\u001b[0m\u001b[1;33m\u001b[0m\u001b[1;33m\u001b[0m\u001b[0m\n\u001b[1;32m---> 18\u001b[1;33m \u001b[0m당첨자\u001b[0m \u001b[1;33m=\u001b[0m \u001b[0mteilnehme\u001b[0m\u001b[1;33m[\u001b[0m\u001b[0m당첨자_index\u001b[0m\u001b[1;33m]\u001b[0m\u001b[1;33m\u001b[0m\u001b[1;33m\u001b[0m\u001b[0m\n\u001b[0m\u001b[0;32m     19\u001b[0m \u001b[1;33m\u001b[0m\u001b[0m\n\u001b[0;32m     20\u001b[0m \u001b[0mprint\u001b[0m\u001b[1;33m(\u001b[0m\u001b[0m당첨자\u001b[0m\u001b[1;33m,\u001b[0m \u001b[1;34m\"당첨!\"\u001b[0m\u001b[1;33m)\u001b[0m\u001b[1;33m\u001b[0m\u001b[1;33m\u001b[0m\u001b[0m\n",
      "\u001b[1;31mNameError\u001b[0m: name 'teilnehme' is not defined"
     ]
    }
   ],
   "source": [
    "#입력셈플 전우치, 강감찬, 일지매, 유관순, 이순신\n",
    "#사용자에게서 이름 리스트 입력 받기\n",
    "teilnehmer_input = input(\"참여할 사람의 이름을 모두 적어주세요.(이름은 ,로 구분해 주세요)\")\n",
    "\n",
    "teilnehmer = teilnehmer_input.split(\",\")\n",
    "\n",
    "teilnehmer\n",
    "#렌덤하게 인티져를 만들 수 있다. random.randint\n",
    "#list의 임덱의 타입은 인티져\n",
    "#문제 : 랜덤으로 생성하는 인티져의 최대값\n",
    "#리스트의 최대값을 구하기 위해 리스트 요소의 개수를 샌다.\n",
    "\n",
    "max_index = len(teilnehmer)\n",
    "\n",
    "import random \n",
    "\n",
    "당첨자_index = random.randint(0,max_index-1)\n",
    "당첨자 = teilnehme[당첨자_index]\n",
    "\n",
    "print(당첨자, \"당첨!\")"
   ]
  },
  {
   "cell_type": "code",
   "execution_count": 9,
   "id": "2f72b661",
   "metadata": {},
   "outputs": [
    {
     "data": {
      "text/plain": [
       "[['새우깡', '감자깡', '고구마깡', '자갈치'], ['콜라', '사이다', '솔의눈', '박카스']]"
      ]
     },
     "execution_count": 9,
     "metadata": {},
     "output_type": "execute_result"
    }
   ],
   "source": [
    "과자 = [\"새우깡\", \"감자깡\", \"고구마깡\",\"자갈치\"]\n",
    "음료 = [\"콜라\", \"사이다\", \"솔의눈\",\"박카스\"]\n",
    "\n",
    "과자_음료_Nested_List = [과자,음료]\n",
    "과자_음료_Nested_List"
   ]
  },
  {
   "cell_type": "code",
   "execution_count": 18,
   "id": "36236ba7",
   "metadata": {},
   "outputs": [
    {
     "data": {
      "text/plain": [
       "['새우깡', '감자깡', '고구마깡', '자갈치', '콜라', '사이다', '솔의눈', '박카스']"
      ]
     },
     "execution_count": 18,
     "metadata": {},
     "output_type": "execute_result"
    }
   ],
   "source": [
    "과자 + 음료"
   ]
  },
  {
   "cell_type": "code",
   "execution_count": 26,
   "id": "86737a32",
   "metadata": {},
   "outputs": [
    {
     "ename": "TypeError",
     "evalue": "extend() takes exactly one argument (3 given)",
     "output_type": "error",
     "traceback": [
      "\u001b[1;31m---------------------------------------------------------------------------\u001b[0m",
      "\u001b[1;31mTypeError\u001b[0m                                 Traceback (most recent call last)",
      "\u001b[1;32mC:\\Users\\ADMINI~1\\AppData\\Local\\Temp/ipykernel_6596/164712820.py\u001b[0m in \u001b[0;36m<module>\u001b[1;34m\u001b[0m\n\u001b[1;32m----> 1\u001b[1;33m \u001b[0m과자임마\u001b[0m \u001b[1;33m=\u001b[0m \u001b[0m과자\u001b[0m\u001b[1;33m.\u001b[0m\u001b[0mextend\u001b[0m\u001b[1;33m(\u001b[0m\u001b[1;34m'쌀로별'\u001b[0m\u001b[1;33m,\u001b[0m\u001b[1;34m\"거북칩\"\u001b[0m\u001b[1;33m,\u001b[0m\u001b[1;34m'수미칩'\u001b[0m\u001b[1;33m)\u001b[0m\u001b[1;33m\u001b[0m\u001b[1;33m\u001b[0m\u001b[0m\n\u001b[0m",
      "\u001b[1;31mTypeError\u001b[0m: extend() takes exactly one argument (3 given)"
     ]
    }
   ],
   "source": [
    "과자임마 = 과자.extend('쌀로별',\"거북칩\",'수미칩')"
   ]
  },
  {
   "cell_type": "code",
   "execution_count": 32,
   "id": "743872b1",
   "metadata": {},
   "outputs": [
    {
     "data": {
      "text/plain": [
       "[['strawberries',\n",
       "  'spinach',\n",
       "  'nectarines',\n",
       "  'apples',\n",
       "  'grapes',\n",
       "  'peaches',\n",
       "  'cherries',\n",
       "  'pears'],\n",
       " ['spinach', 'kale', 'tomatoes', 'celery', 'potatoes']]"
      ]
     },
     "execution_count": 32,
     "metadata": {},
     "output_type": "execute_result"
    }
   ],
   "source": [
    "fruit = ['strawberries', 'spinach', 'nectarines', 'apples', 'grapes', 'peaches', 'cherries', 'pears']\n",
    "Veggies = ['spinach', 'kale', 'tomatoes', 'celery', 'potatoes']\n",
    "\n",
    "dirty_dozen = [fruit,Veggies]\n",
    "dirty_dozen"
   ]
  },
  {
   "cell_type": "code",
   "execution_count": 33,
   "id": "f2581ab4",
   "metadata": {},
   "outputs": [
    {
     "data": {
      "text/plain": [
       "'tomatoes'"
      ]
     },
     "execution_count": 33,
     "metadata": {},
     "output_type": "execute_result"
    }
   ],
   "source": [
    "dirty_dozen[1][2]\n",
    "#[1]은 리스트 순서(0부터) #[2]는 리스트 인덱스 순서(0부터) "
   ]
  },
  {
   "cell_type": "markdown",
   "id": "2e6b000f",
   "metadata": {},
   "source": [
    "# for 반복문\n",
    "\n",
    "* for 변수 in 반복횟수 :\n",
    "      실행할문장 1\n",
    "      실행할문장 2\n",
    "      실행할문장 3\n",
    "      \n",
    "* while 조건 :\n",
    "* 조건이 만족하면 계속 실행\n",
    "* 종료조건 설정"
   ]
  },
  {
   "cell_type": "code",
   "execution_count": 87,
   "id": "fadfce05",
   "metadata": {},
   "outputs": [
    {
     "ename": "SyntaxError",
     "evalue": "invalid syntax (Temp/ipykernel_6596/1188194077.py, line 5)",
     "output_type": "error",
     "traceback": [
      "\u001b[1;36m  File \u001b[1;32m\"C:\\Users\\ADMINI~1\\AppData\\Local\\Temp/ipykernel_6596/1188194077.py\"\u001b[1;36m, line \u001b[1;32m5\u001b[0m\n\u001b[1;33m    print(과자 \" 맛있다\")\u001b[0m\n\u001b[1;37m             ^\u001b[0m\n\u001b[1;31mSyntaxError\u001b[0m\u001b[1;31m:\u001b[0m invalid syntax\n"
     ]
    }
   ],
   "source": [
    "snacks = [\"새우깡\", '감자깡', '고구마깡', \"자갈치\"]\n",
    "\n",
    "for 과자 in snacks :\n",
    "    print(과자)\n",
    "    print(과자 \" 맛있다\")\n",
    "    print(과자 \" 맛있다\")\n",
    "    print(과자 \" 맛있다\")\n",
    "    print(과자 \" 맛있다\")\n",
    "\n",
    "print(\"다음회차? 아니면 끝?\")\n",
    "\n",
    "\n",
    "\n",
    "\n",
    "\n",
    "\n",
    "\n"
   ]
  },
  {
   "cell_type": "markdown",
   "id": "afa5ebb1",
   "metadata": {},
   "source": [
    "# # # 실습 학생들의 키 데이터를 모아서 평균을 계산하시오.\n",
    " for loop을 사용할 것.\n",
    " sample data:  student_heights = [180, 124, 165, 173, 189, 169, 146]"
   ]
  },
  {
   "cell_type": "code",
   "execution_count": 114,
   "id": "090f6c8a",
   "metadata": {},
   "outputs": [
    {
     "name": "stdout",
     "output_type": "stream",
     "text": [
      "180\n",
      "124\n",
      "165\n",
      "173\n",
      "189\n",
      "169\n",
      "146\n"
     ]
    },
    {
     "ename": "TypeError",
     "evalue": "'int' object is not iterable",
     "output_type": "error",
     "traceback": [
      "\u001b[1;31m---------------------------------------------------------------------------\u001b[0m",
      "\u001b[1;31mTypeError\u001b[0m                                 Traceback (most recent call last)",
      "\u001b[1;32mC:\\Users\\ADMINI~1\\AppData\\Local\\Temp/ipykernel_6596/1531505846.py\u001b[0m in \u001b[0;36m<module>\u001b[1;34m\u001b[0m\n\u001b[0;32m      7\u001b[0m \u001b[0m숫자\u001b[0m \u001b[1;33m=\u001b[0m \u001b[1;36m1\u001b[0m\u001b[1;33m\u001b[0m\u001b[1;33m\u001b[0m\u001b[0m\n\u001b[0;32m      8\u001b[0m \u001b[1;33m\u001b[0m\u001b[0m\n\u001b[1;32m----> 9\u001b[1;33m \u001b[1;32mfor\u001b[0m \u001b[0mi\u001b[0m \u001b[1;32min\u001b[0m \u001b[0m학생들키\u001b[0m \u001b[1;33m:\u001b[0m\u001b[1;33m\u001b[0m\u001b[1;33m\u001b[0m\u001b[0m\n\u001b[0m\u001b[0;32m     10\u001b[0m     \u001b[0mprint\u001b[0m\u001b[1;33m(\u001b[0m\u001b[1;34m\"\\n\\n현재는 %s회차 입니다.\"\u001b[0m \u001b[1;33m%\u001b[0m\u001b[0m숫자\u001b[0m\u001b[1;33m)\u001b[0m\u001b[1;33m\u001b[0m\u001b[1;33m\u001b[0m\u001b[0m\n\u001b[0;32m     11\u001b[0m     \u001b[0mprint\u001b[0m\u001b[1;33m(\u001b[0m\u001b[1;34m\"현재 누적학생키는 :\"\u001b[0m\u001b[1;33m,\u001b[0m \u001b[0m학생들키\u001b[0m\u001b[1;33m)\u001b[0m\u001b[1;33m\u001b[0m\u001b[1;33m\u001b[0m\u001b[0m\n",
      "\u001b[1;31mTypeError\u001b[0m: 'int' object is not iterable"
     ]
    }
   ],
   "source": [
    "학생들키_list = [180, 124, 165, 173, 189, 169, 146]\n",
    "   #변수         #기준이되는 리스트\n",
    "for 학생키 in 학생들키_list :\n",
    "    print(학생키)\n",
    "    \n",
    "합계 = 0\n",
    "숫자 = 1\n",
    "\n",
    "for i in 학생들키 :\n",
    "    print(\"\\n\\n현재는 %s회차 입니다.\" %숫자)\n",
    "    print(\"현재 누적학생키는 :\", 학생들키)\n",
    "    합계 += i\n",
    "    숫자 += 1\n",
    "print(\"최종 누적 키: \",)"
   ]
  },
  {
   "cell_type": "code",
   "execution_count": 199,
   "id": "97624531",
   "metadata": {},
   "outputs": [
    {
     "name": "stdout",
     "output_type": "stream",
     "text": [
      "\n",
      "\n",
      "현재는 1회차 입니다\n",
      "현재 누적학생키는: 180\n",
      "\n",
      "\n",
      "현재는 2회차 입니다\n",
      "현재 누적학생키는: 304\n",
      "\n",
      "\n",
      "현재는 3회차 입니다\n",
      "현재 누적학생키는: 469\n",
      "\n",
      "\n",
      "현재는 4회차 입니다\n",
      "현재 누적학생키는: 642\n",
      "\n",
      "\n",
      "현재는 5회차 입니다\n",
      "현재 누적학생키는: 831\n",
      "\n",
      "\n",
      "현재는 6회차 입니다\n",
      "현재 누적학생키는: 1000\n",
      "\n",
      "\n",
      "현재는 7회차 입니다\n",
      "현재 누적학생키는: 1146\n",
      "최종 누적키  1146\n",
      "평균키  163.71428571428572\n",
      "평균키  163.71428571428572\n"
     ]
    }
   ],
   "source": [
    "student_heights = [180, 124, 165, 173, 189, 169, 146]\n",
    "\n",
    "#for 변수이름_아무거나 in 기준\n",
    "# 평균 전체합/학생수\n",
    "\n",
    "sum_of_height = 0\n",
    "number = 1\n",
    "\n",
    "for i in student_heights:\n",
    "    print(\"\\n\\n현재는 %s회차 입니다\" %number) # n회차 입니다.\n",
    "    sum_of_height = sum_of_height + i\n",
    "    number += 1\n",
    "    print(\"현재 누적학생키는:\", sum_of_height)\n",
    "\n",
    "print(\"최종 누적키 \", sum_of_height)\n",
    "print(\"평균키 \", sum_of_height/(number-1))\n",
    "print(\"평균키 \", sum_of_height/len(student_heights))"
   ]
  },
  {
   "cell_type": "code",
   "execution_count": 95,
   "id": "7908228a",
   "metadata": {},
   "outputs": [
    {
     "name": "stdout",
     "output_type": "stream",
     "text": [
      "180\n",
      "124\n",
      "165\n",
      "173\n",
      "189\n",
      "169\n",
      "146\n"
     ]
    },
    {
     "ename": "TypeError",
     "evalue": "'builtin_function_or_method' object cannot be interpreted as an integer",
     "output_type": "error",
     "traceback": [
      "\u001b[1;31m---------------------------------------------------------------------------\u001b[0m",
      "\u001b[1;31mTypeError\u001b[0m                                 Traceback (most recent call last)",
      "\u001b[1;32mC:\\Users\\ADMINI~1\\AppData\\Local\\Temp/ipykernel_6596/2254433002.py\u001b[0m in \u001b[0;36m<module>\u001b[1;34m\u001b[0m\n\u001b[0;32m      7\u001b[0m \u001b[1;33m\u001b[0m\u001b[0m\n\u001b[0;32m      8\u001b[0m \u001b[1;33m\u001b[0m\u001b[0m\n\u001b[1;32m----> 9\u001b[1;33m \u001b[1;32mfor\u001b[0m \u001b[0mi\u001b[0m \u001b[1;32min\u001b[0m \u001b[0mrange\u001b[0m\u001b[1;33m(\u001b[0m\u001b[1;36m0\u001b[0m\u001b[1;33m,\u001b[0m\u001b[0mlen\u001b[0m\u001b[1;33m)\u001b[0m\u001b[1;33m:\u001b[0m\u001b[1;33m\u001b[0m\u001b[1;33m\u001b[0m\u001b[0m\n\u001b[0m\u001b[0;32m     10\u001b[0m     \u001b[0mprint\u001b[0m\u001b[1;33m(\u001b[0m\u001b[0mi\u001b[0m\u001b[1;33m)\u001b[0m\u001b[1;33m\u001b[0m\u001b[1;33m\u001b[0m\u001b[0m\n",
      "\u001b[1;31mTypeError\u001b[0m: 'builtin_function_or_method' object cannot be interpreted as an integer"
     ]
    }
   ],
   "source": [
    "# for i in (3,4,5,67) :\n",
    "#     print(i)\n"
   ]
  },
  {
   "cell_type": "markdown",
   "id": "e62bb744",
   "metadata": {},
   "source": [
    "숫자 1개를 입력 받아서 해당 숫자의 배수에 해당되는 숫자를 구하시오"
   ]
  },
  {
   "cell_type": "code",
   "execution_count": 125,
   "id": "c9c55598",
   "metadata": {},
   "outputs": [
    {
     "name": "stdout",
     "output_type": "stream",
     "text": [
      "수를 입력하시오5\n",
      "5 x 1 = 5\n",
      "5 x 2 = 10\n",
      "5 x 3 = 15\n",
      "5 x 4 = 20\n",
      "5 x 5 = 25\n",
      "5 x 6 = 30\n",
      "5 x 7 = 35\n",
      "5 x 8 = 40\n",
      "5 x 9 = 45\n"
     ]
    }
   ],
   "source": [
    "숫자1 = int(input(\"수를 입력하시오\"))\n",
    "for i in range(1,10):\n",
    "    print(\"%s x %s = %s\" %(숫자1, i , 숫자1*i))"
   ]
  },
  {
   "cell_type": "markdown",
   "id": "9ef8b4d1",
   "metadata": {},
   "source": [
    "숫자 1개를 입력 받아서 1부터 해당 숫자 사이의 짝수만 출력하는 코드1개\n",
    "홀수만 출력하는 코드 1개"
   ]
  },
  {
   "cell_type": "code",
   "execution_count": 167,
   "id": "be7e7c51",
   "metadata": {},
   "outputs": [
    {
     "name": "stdout",
     "output_type": "stream",
     "text": [
      "수를 입력하시오10\n",
      "짝수 :  2\n",
      "짝수 :  4\n",
      "짝수 :  6\n",
      "짝수 :  8\n",
      "짝수 :  10\n",
      "홀수 1\n",
      "홀수 3\n",
      "홀수 5\n",
      "홀수 7\n",
      "홀수 9\n"
     ]
    }
   ],
   "source": [
    "숫자 = int(input('수를 입력하시오'))\n",
    "for i in range(1,숫자+1):\n",
    "    if (i % 2) ==0 :\n",
    "        print(\"짝수 : \",i)\n",
    "\n",
    "for i in range(1,숫자+1):\n",
    "    if(i % 2) != 0 :\n",
    "        print(\"홀수\",i)\n",
    "        "
   ]
  },
  {
   "cell_type": "markdown",
   "id": "8e18ae16",
   "metadata": {},
   "source": [
    "snacks = [\"새우깡\", '감자깡', '고구마깡', \"자갈치\"] 를 이용해서 사용자에게 입력 과자이름을 입력받은 다른 값으로 바꿔주는 코드를 작성하시오"
   ]
  },
  {
   "cell_type": "code",
   "execution_count": 132,
   "id": "e7191169",
   "metadata": {},
   "outputs": [
    {
     "ename": "NameError",
     "evalue": "name 'no' is not defined",
     "output_type": "error",
     "traceback": [
      "\u001b[1;31m---------------------------------------------------------------------------\u001b[0m",
      "\u001b[1;31mNameError\u001b[0m                                 Traceback (most recent call last)",
      "\u001b[1;32mC:\\Users\\ADMINI~1\\AppData\\Local\\Temp/ipykernel_6596/4113007818.py\u001b[0m in \u001b[0;36m<module>\u001b[1;34m\u001b[0m\n\u001b[0;32m      9\u001b[0m     \u001b[1;32mif\u001b[0m \u001b[0mi\u001b[0m \u001b[1;33m==\u001b[0m \u001b[0mstring_old\u001b[0m\u001b[1;33m:\u001b[0m\u001b[1;33m\u001b[0m\u001b[1;33m\u001b[0m\u001b[0m\n\u001b[0;32m     10\u001b[0m         \u001b[0msnacks\u001b[0m\u001b[1;33m[\u001b[0m\u001b[0mno\u001b[0m\u001b[1;33m]\u001b[0m \u001b[1;33m=\u001b[0m \u001b[0mstring_new\u001b[0m\u001b[1;33m\u001b[0m\u001b[1;33m\u001b[0m\u001b[0m\n\u001b[1;32m---> 11\u001b[1;33m     \u001b[0mno\u001b[0m \u001b[1;33m+=\u001b[0m \u001b[1;36m1\u001b[0m\u001b[1;33m\u001b[0m\u001b[1;33m\u001b[0m\u001b[0m\n\u001b[0m\u001b[0;32m     12\u001b[0m \u001b[0msnacks\u001b[0m\u001b[1;33m\u001b[0m\u001b[1;33m\u001b[0m\u001b[0m\n",
      "\u001b[1;31mNameError\u001b[0m: name 'no' is not defined"
     ]
    }
   ],
   "source": [
    "snacks = [\"새우깡\", '감자깡', '고구마깡', \"자갈치\"]\n",
    "\n",
    "# string_old = input(\"기존 과자를 입력하시오:\")\n",
    "# string_new = input(\"바꿔줄 과자를 입력하시오:\")\n",
    "string_old = \"감자깡\"\n",
    "string_new = \"자갈치\"\n",
    "\n",
    "for i in range(0, len(snacks)):\n",
    "    if i == string_old:\n",
    "        snacks[no] = string_new\n",
    "    no += 1\n",
    "snacks"
   ]
  },
  {
   "cell_type": "markdown",
   "id": "c8d9e612",
   "metadata": {},
   "source": [
    "#리스트 내의 최대값을 찾아 출력해주는 코드를 작성하시오.\n",
    "* 입력값 : student_scores = [78, 65, 89, 86, 55, 91, 64, 89]"
   ]
  },
  {
   "cell_type": "code",
   "execution_count": 136,
   "id": "f9a9e7df",
   "metadata": {},
   "outputs": [
    {
     "name": "stdout",
     "output_type": "stream",
     "text": [
      "91\n",
      "55\n"
     ]
    }
   ],
   "source": [
    "성적 = [78, 65, 89, 86, 55, 91, 64, 89]\n",
    "\n",
    "max = 0\n",
    "\n",
    "for i in 성적:\n",
    "    if i > max:\n",
    "        max = i\n",
    "print(max)\n",
    "\n",
    "min = 101\n",
    "\n",
    "for i in 성적:\n",
    "    if i < min:\n",
    "        min = i\n",
    "print(min)"
   ]
  },
  {
   "cell_type": "markdown",
   "id": "a9eaa4e0",
   "metadata": {},
   "source": [
    "실습 For loop + 조건문\n",
    "1에서 100 사이의 모든 짝수를 더해서 출력하시오\n",
    "\n",
    "369 게임기. 1~100의 까지숫자를 생성하고 369 게임 규칙에 따른 결과를 출력하시오\n",
    "\n",
    "규칙1 : 3으로 나누어 떨어지면 박수\n",
    "규칙2 : 규칙1이 성립되지 않더라도 3/6/9 중에 하나를 포함하면 박수"
   ]
  },
  {
   "cell_type": "code",
   "execution_count": 171,
   "id": "4ad8a9e0",
   "metadata": {},
   "outputs": [
    {
     "name": "stdout",
     "output_type": "stream",
     "text": [
      "2550\n"
     ]
    }
   ],
   "source": [
    "합계 = 0\n",
    "for i in range(1,101):\n",
    "    if(i%2) == 0:\n",
    "        합계 += i\n",
    "print(합계)   \n",
    "\n",
    "     \n",
    "\n",
    "     \n",
    "   \n"
   ]
  },
  {
   "cell_type": "code",
   "execution_count": 162,
   "id": "bb4c49aa",
   "metadata": {},
   "outputs": [
    {
     "name": "stdout",
     "output_type": "stream",
     "text": [
      "2 x 1 = 2\n",
      "2 x 2 = 4\n",
      "2 x 3 = 6\n",
      "2 x 4 = 8\n",
      "2 x 5 = 10\n",
      "2 x 6 = 12\n",
      "2 x 7 = 14\n",
      "2 x 8 = 16\n",
      "2 x 9 = 18\n",
      "3 x 1 = 3\n",
      "3 x 2 = 6\n",
      "3 x 3 = 9\n",
      "3 x 4 = 12\n",
      "3 x 5 = 15\n",
      "3 x 6 = 18\n",
      "3 x 7 = 21\n",
      "3 x 8 = 24\n",
      "3 x 9 = 27\n",
      "4 x 1 = 4\n",
      "4 x 2 = 8\n",
      "4 x 3 = 12\n",
      "4 x 4 = 16\n",
      "4 x 5 = 20\n",
      "4 x 6 = 24\n",
      "4 x 7 = 28\n",
      "4 x 8 = 32\n",
      "4 x 9 = 36\n",
      "5 x 1 = 5\n",
      "5 x 2 = 10\n",
      "5 x 3 = 15\n",
      "5 x 4 = 20\n",
      "5 x 5 = 25\n",
      "5 x 6 = 30\n",
      "5 x 7 = 35\n",
      "5 x 8 = 40\n",
      "5 x 9 = 45\n",
      "6 x 1 = 6\n",
      "6 x 2 = 12\n",
      "6 x 3 = 18\n",
      "6 x 4 = 24\n",
      "6 x 5 = 30\n",
      "6 x 6 = 36\n",
      "6 x 7 = 42\n",
      "6 x 8 = 48\n",
      "6 x 9 = 54\n",
      "7 x 1 = 7\n",
      "7 x 2 = 14\n",
      "7 x 3 = 21\n",
      "7 x 4 = 28\n",
      "7 x 5 = 35\n",
      "7 x 6 = 42\n",
      "7 x 7 = 49\n",
      "7 x 8 = 56\n",
      "7 x 9 = 63\n",
      "8 x 1 = 8\n",
      "8 x 2 = 16\n",
      "8 x 3 = 24\n",
      "8 x 4 = 32\n",
      "8 x 5 = 40\n",
      "8 x 6 = 48\n",
      "8 x 7 = 56\n",
      "8 x 8 = 64\n",
      "8 x 9 = 72\n",
      "9 x 1 = 9\n",
      "9 x 2 = 18\n",
      "9 x 3 = 27\n",
      "9 x 4 = 36\n",
      "9 x 5 = 45\n",
      "9 x 6 = 54\n",
      "9 x 7 = 63\n",
      "9 x 8 = 72\n",
      "9 x 9 = 81\n"
     ]
    }
   ],
   "source": [
    "for number in range(2,10):\n",
    "\n",
    "        for i in range(1,10):\n",
    "            print(\"%s x %s = %s\" %(number, i, number*i))"
   ]
  },
  {
   "cell_type": "markdown",
   "id": "a9eb3426",
   "metadata": {},
   "source": [
    "\n"
   ]
  },
  {
   "cell_type": "markdown",
   "id": "61d7092e",
   "metadata": {},
   "source": [
    "369 게임기. 1~100의 까지숫자를 생성하고 369 게임 규칙에 따른 결과를 출력하시오\n",
    "\n",
    "규칙1 : 3으로 나누어 떨어지면 박수 규칙2 : 규칙1이 성립되지 않더라도 3/6/9 중에 하나를 포함하면 박수"
   ]
  },
  {
   "cell_type": "code",
   "execution_count": 211,
   "id": "31270512",
   "metadata": {
    "scrolled": true
   },
   "outputs": [
    {
     "name": "stdout",
     "output_type": "stream",
     "text": [
      "1\n",
      "2\n",
      "박수\n",
      "4\n",
      "5\n",
      "박수\n",
      "7\n",
      "8\n",
      "박수\n",
      "10\n",
      "11\n",
      "박수\n",
      "박수  \n",
      "14\n",
      "박수\n",
      "박수  \n",
      "17\n",
      "박수\n",
      "박수  \n",
      "20\n",
      "박수\n",
      "22\n",
      "박수  \n",
      "박수\n",
      "25\n",
      "박수  \n",
      "박수\n",
      "28\n",
      "박수  \n",
      "박수\n",
      "박수  \n",
      "박수  \n",
      "박수\n",
      "박수  \n",
      "박수  \n",
      "박수\n",
      "박수  \n",
      "박수  \n",
      "박수\n",
      "40\n",
      "41\n",
      "박수\n",
      "박수  \n",
      "44\n",
      "박수\n",
      "박수  \n",
      "47\n",
      "박수\n",
      "박수  \n",
      "50\n",
      "박수\n",
      "52\n",
      "박수  \n",
      "박수\n",
      "55\n",
      "박수  \n",
      "박수\n",
      "58\n",
      "박수  \n",
      "박수\n",
      "박수  \n",
      "박수  \n",
      "박수\n",
      "박수  \n",
      "박수  \n",
      "박수\n",
      "박수  \n",
      "박수  \n",
      "박수\n",
      "70\n",
      "71\n",
      "박수\n",
      "박수  \n",
      "74\n",
      "박수\n",
      "박수  \n",
      "77\n",
      "박수\n",
      "박수  \n",
      "80\n",
      "박수\n",
      "82\n",
      "박수  \n",
      "박수\n",
      "85\n",
      "박수  \n",
      "박수\n",
      "88\n",
      "박수  \n",
      "박수\n",
      "박수  \n",
      "박수  \n",
      "박수\n",
      "박수  \n",
      "박수  \n",
      "박수\n",
      "박수  \n",
      "박수  \n",
      "박수\n",
      "100\n"
     ]
    }
   ],
   "source": [
    "for i in range(1,101):\n",
    "    if (i%3) == 0:\n",
    "        print(\"박수\") \n",
    "    else : # 나머지것 중에 3 6 9 포함한 숫자.\n",
    "        i = str(i) #숫자를 문자로\n",
    "        박수횟수 = 0   #\n",
    "        for j in range(0,len(i)): #숫자의 자리수 만큼 반복\n",
    "            if i [j] == \"3\" or i[j] == \"6\" or i[j] == \"9\": \n",
    "                박수횟수 += 1\n",
    "                \n",
    "        if 박수횟수 == 0:\n",
    "            print(i)\n",
    "        else:\n",
    "            print(\"박수  \"*박수횟수)\n"
   ]
  },
  {
   "cell_type": "markdown",
   "id": "34520a68",
   "metadata": {},
   "source": [
    "### 사용자 정의함수  \n",
    "* def 함수이름() : 실행할 문장\n",
    "          기능\n",
    "          기능\n",
    "          기능\n",
    "          \n",
    "* return <- 출력물\n",
    "\n",
    "사용자 정의함수를 쓰는 이유 :\n",
    "1.코딩의 간소화\n",
    "2.코드 가독성 상승"
   ]
  },
  {
   "cell_type": "markdown",
   "id": "2d922ac3",
   "metadata": {},
   "source": [
    "### 모듈이란?\n",
    "함수를 모아서 별도로 저장해 둔 파일이다.\n",
    "* improt.모듈이름\n",
    "* from 모듈이름 import 함수이름\n",
    "### 모듈 설치방법:\n",
    "\n",
    "* cmd를 관리자 권한으로 켜서\n",
    "* pip install 모듈이름"
   ]
  },
  {
   "cell_type": "markdown",
   "id": "4a81a3e5",
   "metadata": {},
   "source": [
    "사용자에게 입력받은 무게와 운동횟수를 입력받아 곱한 뒤 \n",
    "순차 적을 받아낸 값을 더한다.\n",
    "\n",
    "결과물\n",
    "\n",
    "총볼륨 : "
   ]
  },
  {
   "cell_type": "code",
   "execution_count": 191,
   "id": "64a7af93",
   "metadata": {},
   "outputs": [
    {
     "name": "stdout",
     "output_type": "stream",
     "text": [
      "rm20\n",
      "weight30\n",
      "600\n"
     ]
    }
   ],
   "source": [
    "#먼저 사용자에게 무게와 횟수를 입력 받는다.\n",
    "\n",
    "\n",
    "rm = int(input(\"rm\"))\n",
    "weight = int(input(\"weight\"))\n",
    "\n",
    "set1 = 0\n",
    "\n",
    "#입력 받은 두 수를 곱한다.\n",
    "volume = rm*weight\n",
    "print(volume)\n",
    "#다음으로 입력 받은 두 수의 곱과 더한다. (계속반복)\n",
    "for sum_of_volume in volume :\n",
    "    print(\"i 세트 총볼륨 : \" volume)\n",
    "    volume = \n"
   ]
  },
  {
   "cell_type": "markdown",
   "id": "9ab4b05d",
   "metadata": {},
   "source": [
    "3 6 9 게임 만들기."
   ]
  },
  {
   "cell_type": "code",
   "execution_count": 8,
   "id": "465a554b",
   "metadata": {},
   "outputs": [
    {
     "name": "stdout",
     "output_type": "stream",
     "text": [
      "1\n",
      "2\n",
      "짝\n",
      "4\n",
      "5\n",
      "짝\n",
      "7\n",
      "8\n",
      "짝\n",
      "10\n",
      "11\n",
      "12\n",
      "짝\n",
      "14\n",
      "15\n",
      "짝\n",
      "17\n",
      "18\n",
      "짝\n",
      "20\n",
      "21\n",
      "22\n",
      "짝\n",
      "24\n",
      "25\n",
      "짝\n",
      "27\n",
      "28\n",
      "짝\n",
      "짝\n",
      "짝\n",
      "짝\n",
      "짝짝\n",
      "짝\n",
      "짝\n",
      "짝짝\n",
      "짝\n",
      "짝\n",
      "짝짝\n",
      "40\n",
      "41\n",
      "42\n",
      "짝\n",
      "44\n",
      "45\n",
      "짝\n",
      "47\n",
      "48\n",
      "짝\n",
      "50\n",
      "51\n",
      "52\n",
      "짝\n",
      "54\n",
      "55\n",
      "짝\n",
      "57\n",
      "58\n",
      "짝\n",
      "짝\n",
      "짝\n",
      "짝\n",
      "짝짝\n",
      "짝\n",
      "짝\n",
      "짝짝\n",
      "짝\n",
      "짝\n",
      "짝짝\n",
      "70\n",
      "71\n",
      "72\n",
      "짝\n",
      "74\n",
      "75\n",
      "짝\n",
      "77\n",
      "78\n",
      "짝\n",
      "80\n",
      "81\n",
      "82\n",
      "짝\n",
      "84\n",
      "85\n",
      "짝\n",
      "87\n",
      "88\n",
      "짝\n",
      "짝\n",
      "짝\n",
      "짝\n",
      "짝짝\n",
      "짝\n",
      "짝\n",
      "짝짝\n",
      "짝\n",
      "짝\n",
      "짝짝\n",
      "100\n"
     ]
    }
   ],
   "source": [
    "for n in range(1,101):\n",
    "    c = str(n).count('3')+str(n).count('6')+str(n).count('9')\n",
    "    if c ==0:\n",
    "        print(n)\n",
    "    else:\n",
    "        print(\"짝\"*c)\n",
    "\n"
   ]
  },
  {
   "cell_type": "code",
   "execution_count": 9,
   "id": "dac742cb",
   "metadata": {},
   "outputs": [
    {
     "name": "stdout",
     "output_type": "stream",
     "text": [
      "1024\n"
     ]
    }
   ],
   "source": [
    "print(2**10)"
   ]
  },
  {
   "cell_type": "code",
   "execution_count": 10,
   "id": "3d580efb",
   "metadata": {},
   "outputs": [
    {
     "name": "stdout",
     "output_type": "stream",
     "text": [
      "2560\n"
     ]
    }
   ],
   "source": [
    "print(8*8*8*5)"
   ]
  },
  {
   "cell_type": "code",
   "execution_count": 11,
   "id": "3067b891",
   "metadata": {},
   "outputs": [
    {
     "data": {
      "text/plain": [
       "9"
      ]
     },
     "execution_count": 11,
     "metadata": {},
     "output_type": "execute_result"
    }
   ],
   "source": [
    "3*3\n"
   ]
  },
  {
   "cell_type": "code",
   "execution_count": 12,
   "id": "9eee50df",
   "metadata": {},
   "outputs": [
    {
     "data": {
      "text/plain": [
       "59049"
      ]
     },
     "execution_count": 12,
     "metadata": {},
     "output_type": "execute_result"
    }
   ],
   "source": [
    "3**10\n"
   ]
  },
  {
   "cell_type": "code",
   "execution_count": null,
   "id": "3d6b88d1",
   "metadata": {},
   "outputs": [],
   "source": []
  }
 ],
 "metadata": {
  "kernelspec": {
   "display_name": "Python 3 (ipykernel)",
   "language": "python",
   "name": "python3"
  },
  "language_info": {
   "codemirror_mode": {
    "name": "ipython",
    "version": 3
   },
   "file_extension": ".py",
   "mimetype": "text/x-python",
   "name": "python",
   "nbconvert_exporter": "python",
   "pygments_lexer": "ipython3",
   "version": "3.8.3"
  }
 },
 "nbformat": 4,
 "nbformat_minor": 5
}
