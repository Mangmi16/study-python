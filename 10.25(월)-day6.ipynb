{
 "cells": [
  {
   "cell_type": "markdown",
   "id": "7c1ee593",
   "metadata": {},
   "source": [
    "# 사용자 정의 함수_\n",
    "\n",
    "def 함수이름(입력값) :\n",
    "\n",
    "      입력값을 가지고 실행할 문장:\n",
    "   \n",
    "      실행문장\n",
    "   \n",
    "      실행문장\n"
   ]
  },
  {
   "cell_type": "markdown",
   "id": "2196d87d",
   "metadata": {},
   "source": [
    "# input을 받아가는 함수.\n",
    "\n",
    "\n",
    "def 함수이름(입력값) :\n",
    "\n",
    "      입력값을 가지고 실행할 문장:\n",
    "      실행문장\n",
    "      실행문장\n",
    "      \n",
    "def 함수이름(입력값1,입력값2) :\n",
    "\n",
    "\n",
    "      입력값을 가지고 실행할 문장:\n",
    "      실행문장\n",
    "      실행문장\n",
    "    \n",
    "def 프린팅_함수(성, 이름):\n",
    "\n",
    "    print(f\"제 성은 {성}이고 이름은 {이름} 입니다\"\n",
    "    print(\"반갑습니다~\")\n",
    "    print(\"오늘 날씨가 참 좋지요?)\n",
    "    \n",
    "    \n",
    "#문자열 = \"새우깡\"\n",
    "\n",
    "\n",
    "  print(\"참 맛있다\")\n",
    "  \n",
    "  print(\"은 참 맛있다\",문자열)\n",
    "  \n",
    "  print(\"%s은 참맛있다\" %문자열)\n",
    "  \n",
    "  print(f\"{문자열}은 참 맛있다.\")\n",
    "  \n",
    "      "
   ]
  },
  {
   "cell_type": "code",
   "execution_count": 19,
   "id": "1b573081",
   "metadata": {},
   "outputs": [
    {
     "ename": "NameError",
     "evalue": "name '이름씨' is not defined",
     "output_type": "error",
     "traceback": [
      "\u001b[1;31m---------------------------------------------------------------------------\u001b[0m",
      "\u001b[1;31mNameError\u001b[0m                                 Traceback (most recent call last)",
      "\u001b[1;32mC:\\Users\\ADMINI~1\\AppData\\Local\\Temp/ipykernel_8768/3740553405.py\u001b[0m in \u001b[0;36m<module>\u001b[1;34m\u001b[0m\n\u001b[0;32m      4\u001b[0m     \u001b[0mprint\u001b[0m\u001b[1;33m(\u001b[0m\u001b[1;34mf\"오늘은{날씨}날 입니다.\"\u001b[0m\u001b[1;33m)\u001b[0m\u001b[1;33m\u001b[0m\u001b[1;33m\u001b[0m\u001b[0m\n\u001b[0;32m      5\u001b[0m \u001b[1;33m\u001b[0m\u001b[0m\n\u001b[1;32m----> 6\u001b[1;33m \u001b[0m반갑습니다\u001b[0m\u001b[1;33m(\u001b[0m\u001b[1;34m\"맑은\"\u001b[0m\u001b[1;33m,\u001b[0m\u001b[1;34m\"진교\"\u001b[0m\u001b[1;33m)\u001b[0m\u001b[1;33m\u001b[0m\u001b[1;33m\u001b[0m\u001b[0m\n\u001b[0m",
      "\u001b[1;32mC:\\Users\\ADMINI~1\\AppData\\Local\\Temp/ipykernel_8768/3740553405.py\u001b[0m in \u001b[0;36m반갑습니다\u001b[1;34m(날씨, 이름)\u001b[0m\n\u001b[0;32m      1\u001b[0m \u001b[1;32mdef\u001b[0m \u001b[0m반갑습니다\u001b[0m\u001b[1;33m(\u001b[0m\u001b[0m날씨\u001b[0m\u001b[1;33m,\u001b[0m\u001b[0m이름\u001b[0m\u001b[1;33m)\u001b[0m\u001b[1;33m:\u001b[0m\u001b[1;33m\u001b[0m\u001b[1;33m\u001b[0m\u001b[0m\n\u001b[1;32m----> 2\u001b[1;33m     \u001b[0mprint\u001b[0m\u001b[1;33m(\u001b[0m\u001b[1;34mf\"{이름씨}, 안녕하세요?\"\u001b[0m\u001b[1;33m)\u001b[0m \u001b[1;31m#문자열 = \"새우깡\" print(\"참 맛있다\")\u001b[0m\u001b[1;33m\u001b[0m\u001b[1;33m\u001b[0m\u001b[0m\n\u001b[0m\u001b[0;32m      3\u001b[0m     \u001b[0mprint\u001b[0m\u001b[1;33m(\u001b[0m\u001b[1;34m\"반갑습니다~\"\u001b[0m\u001b[1;33m)\u001b[0m\u001b[1;33m\u001b[0m\u001b[1;33m\u001b[0m\u001b[0m\n\u001b[0;32m      4\u001b[0m     \u001b[0mprint\u001b[0m\u001b[1;33m(\u001b[0m\u001b[1;34mf\"오늘은{날씨}날 입니다.\"\u001b[0m\u001b[1;33m)\u001b[0m\u001b[1;33m\u001b[0m\u001b[1;33m\u001b[0m\u001b[0m\n\u001b[0;32m      5\u001b[0m \u001b[1;33m\u001b[0m\u001b[0m\n",
      "\u001b[1;31mNameError\u001b[0m: name '이름씨' is not defined"
     ]
    }
   ],
   "source": [
    "def 반갑습니다(날씨,이름):\n",
    "    print(f\"{이름씨}, 안녕하세요?\") #문자열 = \"새우깡\" print(\"참 맛있다\")\n",
    "    print(\"반갑습니다~\")\n",
    "    print(f\"오늘은{날씨}날 입니다.\")\n",
    "\n",
    "반갑습니다(\"맑은\",\"진교\")"
   ]
  },
  {
   "cell_type": "code",
   "execution_count": 17,
   "id": "c22d895f",
   "metadata": {},
   "outputs": [
    {
     "name": "stdout",
     "output_type": "stream",
     "text": [
      "진교씨, 안녕하세요?\n",
      "오늘은 맑은날 입니다.\n"
     ]
    }
   ],
   "source": [
    "def 반갑습니다(이름,날씨):\n",
    "    print(f\"{이름}씨, 안녕하세요?\")\n",
    "    print(f\"오늘은 {날씨}날 입니다.\")\n",
    "반갑습니다(\"진교\",\"맑은\")"
   ]
  },
  {
   "cell_type": "code",
   "execution_count": 18,
   "id": "cf70fbd0",
   "metadata": {},
   "outputs": [
    {
     "name": "stdout",
     "output_type": "stream",
     "text": [
      "참 맛있다\n",
      "은 참 맛있다 새우깡\n",
      "새우깡은 참맛있다\n",
      "새우깡은 참 맛있다.\n"
     ]
    }
   ],
   "source": [
    "\n",
    "\n",
    "    \n",
    "문자열 = \"새우깡\"\n",
    "print(\"참 맛있다\")\n",
    "print(\"은 참 맛있다\",문자열)\n",
    "print(\"%s은 참맛있다\" %문자열)\n",
    "print(f\"{문자열}은 참 맛있다.\")"
   ]
  },
  {
   "cell_type": "markdown",
   "id": "128a57ac",
   "metadata": {},
   "source": [
    "###  positional vs Keyword argument\n",
    "\n",
    "positional argument : 미리 선언한 키워드의 순서/갯수에 맞지 않는 함수 활용.\n"
   ]
  },
  {
   "cell_type": "markdown",
   "id": "d0e3d35c",
   "metadata": {},
   "source": [
    "def 내_함수(a(문자열),b(int),c):\n",
    "\n",
    "    a로는 이거해라\n",
    "    int(b)\n",
    "    c로는 이거해라\n",
    "    \n",
    "내_함수(a,b,c)"
   ]
  },
  {
   "cell_type": "markdown",
   "id": "39e8e061",
   "metadata": {},
   "source": [
    "실습1 :\n",
    "\n",
    "스프레이 페인트 1캔이 평방5제곱미터의 면적을 칠할 수 있다.\n",
    "벽의 높이와 너비를 입력받아 벽의 면적을 계산하고, 벽을을 칠하는데 필요한 스프레이 캔의 갯수를 세어주는 함수를 만들어라.\n",
    "\n",
    "실습2 :\n",
    "\n",
    "입력한 숫자가 소수(prime number)인지 아닌지 확인해 주는 함수를 만들어라\n",
    "\n",
    "prime number 조건 : 오직 1과 자기 자신으로만 나누어 떨어진다."
   ]
  },
  {
   "cell_type": "code",
   "execution_count": 7,
   "id": "3db981c4",
   "metadata": {},
   "outputs": [
    {
     "name": "stdout",
     "output_type": "stream",
     "text": [
      "가로16\n",
      "높이15\n",
      "총 면적은 240.0 ㎡ 입니다.\n",
      "필요한 페인트는 48 캔 입니다.\n"
     ]
    }
   ],
   "source": [
    "#문제1 :스프레이 페인트 1캔이 평방5제곱미터의 면적을 칠할 수 있다.\n",
    "#벽의 높이와 너비를 입력받아 벽의 면적을 계산하고, \n",
    "#벽을을 칠하는데 필요한 스프레이 캔의 갯수를 세어주는 함수를 만들어라.\n",
    "import math\n",
    "def can(가로,높이):\n",
    "    너비 = 가로 * 높이\n",
    "    캔소수 = 너비/5\n",
    "    캔수 = math.ceil(캔소수)\n",
    "    \n",
    "    print(\"총 면적은\",너비,\"㎡ 입니다.\")\n",
    "    print(\"필요한 페인트는\",캔수,\"캔 입니다.\")\n",
    "    \n",
    "가로 = float(input(\"가로\"))\n",
    "높이 = float(input(\"높이\"))\n",
    "\n",
    "can(가로,높이)"
   ]
  },
  {
   "cell_type": "code",
   "execution_count": 1,
   "id": "bffcbd81",
   "metadata": {},
   "outputs": [
    {
     "name": "stdout",
     "output_type": "stream",
     "text": [
      "확인할 숫자를 입력하세요 : 32432412\n",
      "소수 x\n"
     ]
    }
   ],
   "source": [
    "#실습2 :입력한 숫자가 소수(prime number)인지 아닌지 확인해 주는 함수를 만들어라\n",
    "# prime number 조건 : 오직 1과 자기 자신으로만 나누어 떨어진다.\n",
    "\n",
    "def 소수인가(숫자):\n",
    "    \n",
    "    나머지0카운터 = 0\n",
    "    \n",
    "    for i in range(2,숫자):\n",
    "        if 숫자 % i == 0:\n",
    "            나머지0카운터 +=1\n",
    "       \n",
    "    if 나머지0카운터 ==0:\n",
    "        print(\"소수 o\")\n",
    "        \n",
    "    else:\n",
    "        print(\"소수 x\")\n",
    "\n",
    "확인할_수 = int(input(\"확인할 숫자를 입력하세요 : \"))\n",
    "소수인가(확인할_수)\n",
    "        "
   ]
  },
  {
   "cell_type": "markdown",
   "id": "638ec7f2",
   "metadata": {},
   "source": [
    "# 딕셔너리 = 사전\n",
    "\n",
    "* 리스트 = []\n",
    "* 딕셔너리\n",
    "\n",
    "버그 : 소프트웨어가 예상하지 못한 잘못된 결과/오류/오작동 등을 뜻한다.\n"
   ]
  },
  {
   "cell_type": "code",
   "execution_count": 29,
   "id": "ce133dd2",
   "metadata": {},
   "outputs": [
    {
     "name": "stdout",
     "output_type": "stream",
     "text": [
      "['인덱스', '함수', '입력값']\n"
     ]
    },
    {
     "data": {
      "text/plain": [
       "[]"
      ]
     },
     "execution_count": 29,
     "metadata": {},
     "output_type": "execute_result"
    }
   ],
   "source": [
    "#리스트\n",
    "\n",
    "# 리스트\n",
    "리스트1 = [\"버그\", '함수', '입력값']\n",
    "#리스트에 값 추가하기\n",
    "리스트1[0] = \"인덱스\"\n",
    "print(리스트1)\n",
    "\n",
    "\n",
    "#리스트 초기화\n",
    "리스트1 = []\n",
    "리스트1"
   ]
  },
  {
   "cell_type": "code",
   "execution_count": 13,
   "id": "6b42f3c0",
   "metadata": {},
   "outputs": [
    {
     "data": {
      "text/plain": [
       "'문자열에도 쓰고, 리스트에도 쓰고,데이터프레임에도 쓰는데..'"
      ]
     },
     "execution_count": 13,
     "metadata": {},
     "output_type": "execute_result"
    }
   ],
   "source": [
    "# 딕셔너리 = {키(key) : 값}\n",
    "# 줄넘김으로 정리하자. 단, 줄넘김 했을때 인덴트에 유의.\n",
    "프로그래밍_사전 = {\n",
    "    \"버그\" : \"소프트웨어가 예상하지 못한 잘못된 결과/오류/오작동 등을 뜻한다\",\n",
    "    \"함수\" : \"함수란....어쩌고저쩌고\",\n",
    "    \"인덱스\": \"문자열에도 쓰고, 리스트에도 쓰고,데이터프레임에도 쓰는데..\",\n",
    "}\n",
    "# 프로그래밍_사전[0] # 딕셔너리는 인덱스 값으로 검색할 수 없다.\n",
    "\n",
    "프로그래밍_사전[\"인덱스\"]"
   ]
  },
  {
   "cell_type": "code",
   "execution_count": 26,
   "id": "5fabe998",
   "metadata": {},
   "outputs": [
    {
     "data": {
      "text/plain": [
       "{'버그': '소프트웨어가 예상하지 못한 잘못된 결과/오류/오작동 등을 뜻한다',\n",
       " '함수': '함수란....어쩌고저쩌고',\n",
       " '인덱스': '문자열에도 쓰고, 리스트에도 쓰고,데이터프레임에도 쓰는데..',\n",
       " '리복': '파이썬 함수 연습하기 좋은 시뮬레이터'}"
      ]
     },
     "execution_count": 26,
     "metadata": {},
     "output_type": "execute_result"
    }
   ],
   "source": [
    "#딕셔너리에 내용 추가하기\n",
    "프로그래밍_사전[\"리복\"] = \"파이썬 함수 연습하기 좋은 시뮬레이터\"\n",
    "프로그래밍_사전"
   ]
  },
  {
   "cell_type": "code",
   "execution_count": 30,
   "id": "c5fbafa3",
   "metadata": {},
   "outputs": [],
   "source": [
    "#사전 비우기\n"
   ]
  },
  {
   "cell_type": "code",
   "execution_count": 14,
   "id": "c1694291",
   "metadata": {},
   "outputs": [
    {
     "name": "stdout",
     "output_type": "stream",
     "text": [
      "버그\n",
      "함수\n",
      "인덱스\n"
     ]
    }
   ],
   "source": [
    "\n",
    "빈_사전 = {}\n",
    "\n",
    "for i in 프로그래밍_사전:\n",
    "    print(i)"
   ]
  },
  {
   "cell_type": "code",
   "execution_count": 16,
   "id": "e8b2446a",
   "metadata": {},
   "outputs": [
    {
     "ename": "TypeError",
     "evalue": "'dict' object is not callable",
     "output_type": "error",
     "traceback": [
      "\u001b[0;31m---------------------------------------------------------------------------\u001b[0m",
      "\u001b[0;31mTypeError\u001b[0m                                 Traceback (most recent call last)",
      "\u001b[0;32m/var/folders/cb/87qggcjj1kv9lvkrzx8s53tc0000gn/T/ipykernel_15392/814035161.py\u001b[0m in \u001b[0;36m<module>\u001b[0;34m\u001b[0m\n\u001b[1;32m      1\u001b[0m \u001b[0;31m#for loop을 이용해서 Value를 가져오려면?\u001b[0m\u001b[0;34m\u001b[0m\u001b[0;34m\u001b[0m\u001b[0;34m\u001b[0m\u001b[0m\n\u001b[1;32m      2\u001b[0m \u001b[0;34m\u001b[0m\u001b[0m\n\u001b[0;32m----> 3\u001b[0;31m \u001b[0;32mfor\u001b[0m \u001b[0mi\u001b[0m \u001b[0;32min\u001b[0m \u001b[0m프로그래밍_사전\u001b[0m\u001b[0;34m(\u001b[0m\u001b[0;34m)\u001b[0m\u001b[0;34m:\u001b[0m\u001b[0;34m\u001b[0m\u001b[0;34m\u001b[0m\u001b[0m\n\u001b[0m\u001b[1;32m      4\u001b[0m     \u001b[0mprint\u001b[0m\u001b[0;34m(\u001b[0m\u001b[0m프로그래밍_사전\u001b[0m\u001b[0;34m[\u001b[0m\u001b[0mi\u001b[0m\u001b[0;34m]\u001b[0m\u001b[0;34m)\u001b[0m\u001b[0;34m\u001b[0m\u001b[0;34m\u001b[0m\u001b[0m\n",
      "\u001b[0;31mTypeError\u001b[0m: 'dict' object is not callable"
     ]
    }
   ],
   "source": [
    "#for loop을 이용해서 Value를 가져오려면?\n",
    "\n",
    "for i in 프로그래밍_사전():\n",
    "    print(프로그래밍_사전[i])\n"
   ]
  },
  {
   "cell_type": "markdown",
   "id": "1c25b0e2",
   "metadata": {},
   "source": [
    "# Nested dictonary & List\n",
    "\n",
    "\n",
    "# Nesting : 다른 주체에 포함되는 \n",
    "\n",
    "\n",
    "# 사전에는 키값: 내용이 한 쌍밖에 안 들어간다\n",
    "\n"
   ]
  },
  {
   "cell_type": "code",
   "execution_count": 64,
   "id": "cc97e09c",
   "metadata": {},
   "outputs": [
    {
     "data": {
      "text/plain": [
       "{'프랑스': {'방문한_도시': ['파리', '보르도', '낭트'], '방문횟수': 12},\n",
       " '독일': {'방문한_도시': ['포르츠하임', '아헨', '라이프치히', '슈트트가르트'], '방문횟수': 5}}"
      ]
     },
     "execution_count": 64,
     "metadata": {},
     "output_type": "execute_result"
    }
   ],
   "source": [
    "여행기록 = {\n",
    "    \"프랑스\" : {\"방문한_도시\" :[\"파리\",\"보르도\",\"낭트\"],\"방문횟수\" : 12},\n",
    "    \n",
    "    \"독일\" : {\"방문한_도시\" :[\"포르츠하임\",\"아헨\",\"라이프치히\",\"슈트트가르트\"],\"방문횟수\" : 5}\n",
    "}\n",
    "여행기록\n",
    "\n"
   ]
  },
  {
   "cell_type": "markdown",
   "id": "854da4c0",
   "metadata": {},
   "source": [
    "{\n",
    "    키(프랑스=키1) : 내용1{사전을 내용대신에.{\"방문한_도시\"(키1-41):내용(1-1)[\"파리\",\"보르도\",\"낭트\"],\n",
    "    \"방문횟수\"(키1-2): 내용(1-2)12}\n",
    "}"
   ]
  },
  {
   "cell_type": "code",
   "execution_count": 66,
   "id": "3955a5e2",
   "metadata": {},
   "outputs": [
    {
     "data": {
      "text/plain": [
       "[{'나라이름': '프랑스', '방문한_도시': ['파리', '보르도', '낭트'], '방문횟수': 12},\n",
       " {'나라이름': '독일', '방문한_도시': ['포르츠하임', '아헨', '라이프치히', '슈트트가르트'], '방문횟수': 5}]"
      ]
     },
     "execution_count": 66,
     "metadata": {},
     "output_type": "execute_result"
    }
   ],
   "source": [
    "#Nesting dictionary in a list\n",
    "\n",
    "여행기록 = [\n",
    "    {\"나라이름\" :\"프랑스\", \"방문한_도시\" :[\"파리\",\"보르도\",\"낭트\"],\"방문횟수\" : 12},\n",
    "    \n",
    "    {\"나라이름\" : \"독일\", \"방문한_도시\" :[\"포르츠하임\",\"아헨\",\"라이프치히\",\"슈트트가르트\"],\"방문횟수\" : 5}\n",
    "]\n",
    "여행기록"
   ]
  },
  {
   "cell_type": "markdown",
   "id": "1ccc53a3",
   "metadata": {},
   "source": [
    "실습1 키= 이름, 내용= 시험성적 으로 이루어진 데이터 베이스가 딕셔너리의 형태로 저장되어 있다. 해당 학생들의 시험성적을 학점으로 변환하여 새로운 딕셔너리의 형태로 저장하여라.\n",
    "학점 변환 기준: 90 이상 A 80 이상 B 70 이상 C 70 미만 Fail"
   ]
  },
  {
   "cell_type": "code",
   "execution_count": 96,
   "id": "df5130af",
   "metadata": {},
   "outputs": [
    {
     "name": "stdout",
     "output_type": "stream",
     "text": [
      "Harry\n",
      "81\n",
      "Ron\n",
      "78\n",
      "Hermione\n",
      "99\n",
      "Draco\n",
      "74\n",
      "Neville\n",
      "62\n"
     ]
    },
    {
     "data": {
      "text/plain": [
       "{'Harry': 'B', 'Ron': 'C', 'Hermione': 'A', 'Draco': 'C', 'Neville': 'Fail'}"
      ]
     },
     "execution_count": 96,
     "metadata": {},
     "output_type": "execute_result"
    }
   ],
   "source": [
    "student_scores ={\n",
    "  \"Harry\": 81,\n",
    "  \"Ron\": 78,\n",
    "  \"Hermione\": 99, \n",
    "  \"Draco\": 74,\n",
    "  \"Neville\": 62,\n",
    "}\n",
    "\n",
    "student_grades = {} # 비어있는 딕셔너리를 만들어서 내용을 추가해 나가자.\n",
    "\n",
    "#딕셔너리에 내용 추가하기\n",
    "# 프로그래밍_사전[\"리복\"] = \"파이썬 함수 연습하기 좋은 시뮬레이터\"\n",
    "\n",
    "for student_name in student_scores:\n",
    "    print(student_name) # for loop에 dictionary 를 물리면 키값을 돌려준다. => i = 키값.\n",
    "    print(student_scores[student_name])\n",
    "    score = student_scores[student_name]\n",
    "    if score > 90:\n",
    "        student_grades[student_name] = \"A\"\n",
    "    elif score > 80:\n",
    "        student_grades[student_name] = \"B\"\n",
    "    elif score > 70:\n",
    "        student_grades[student_name] = \"C\"\n",
    "    else:\n",
    "        student_grades[student_name] = \"Fail\"\n",
    "\n",
    "        \n",
    "student_grades"
   ]
  },
  {
   "cell_type": "markdown",
   "id": "201ab179",
   "metadata": {},
   "source": [
    "실습 2 : 여행기록을 나타내는 travel_log를 작성하라.(# 예시 : nesting dictionary in a list 참조)\n",
    "travel log에 데이터를 추가해 주는 함수를 만들어라.\n",
    "\n",
    "이때 추가할 내용으로 나라이름, 방문도시, 방문 횟수가 포함되어야 한다.\n",
    "예) 나라_추가하기_함수(\"Russia\",2,[\"모스크바\",\"세인트피츠버그\"])"
   ]
  },
  {
   "cell_type": "code",
   "execution_count": 102,
   "id": "09b76c71",
   "metadata": {},
   "outputs": [
    {
     "name": "stdout",
     "output_type": "stream",
     "text": [
      "[{'나라이름': '프랑스', '방문한_도시': ['파리', '보르도', '낭트'], '방문횟수': 12}, {'나라이름': '독일', '방문한_도시': ['포르츠하임', '아헨', '라이프치히'], '방문횟수': 5}, {'나라이름': 'Russia', '방문한_도시': ['모스크바', '세인트피츠버그'], '방문횟수': 2}]\n"
     ]
    }
   ],
   "source": [
    "\n",
    "여행기록 = [\n",
    "    {\n",
    "        \"나라이름\" :\"프랑스\", \"방문한_도시\" :[\"파리\",\"보르도\",\"낭트\"],\n",
    "        \"방문횟수\" : 12\n",
    "    },\n",
    "    \n",
    "    {\n",
    "        \"나라이름\" : \"독일\", \"방문한_도시\" :[\"포르츠하임\",\"아헨\",\"라이프치히\"],\n",
    "        \"방문횟수\" : 5\n",
    "    }\n",
    "]\n",
    "\n",
    "# 여행기록이라는 얘는 '리스트' 이다. 안에 있는 나라이름~방문횟수 모두 요소(element)1개. 따라서, append()를 써서 데이터를 추가할 수 있다. \n",
    "\n",
    "# 3개의 인풋을 가지는 함수를 만들자.\n",
    "\n",
    "def 나라_추가하기_함수(나라이름, 방문횟수,방문도시):\n",
    "    새_나라사전 = {} #빈사전을 선언 해서\n",
    "    새_나라사전[\"나라이름\"] = 나라이름 #나라이름이라는 키 값을 가지고,내용으로는 변수로 입력 받은나라이름을 넣는다.\n",
    "    새_나라사전[\"방문한_도시\"] = 방문도시#방문한_도시 라는 키 값을 가지고,내용으로는 변수로 입력받은 방문도시를  넣는다.\n",
    "    새_나라사전[\"방문횟수\"] = 방문횟수 # \"방문횟수\" 라는 키 값을 가지고 내용으로 변수로 입력받은 방문횟수를 넣는다.\n",
    "    여행기록.append(새_나라사전)    \n",
    "        \n",
    "나라_추가하기_함수(\n",
    "    \"Russia\",2,[\"모스크바\",\"세인트피츠버그\"]\n",
    ")    \n",
    "print(여행기록)\n",
    "    \n",
    "\n"
   ]
  },
  {
   "cell_type": "markdown",
   "id": "d9772315",
   "metadata": {},
   "source": [
    "# 함수 with Output\n",
    "\n",
    "### 단순 사용자 정의 함수\n",
    "def 내_함수():\n",
    "* 이거해라\n",
    "* 이거도 해라\n",
    "* 저거도 해라\n",
    "\n",
    "### 입력이 있는 사용자 정의 함수\n",
    "def 내_함수(인풋):\n",
    "* 이거해라\n",
    "* 이거도 해라\n",
    "* 저거도 해라\n",
    "\n",
    "### 출력물이 있는 함수 : \"출력물\"이라고 지정해주는 함수 retern.\n",
    "def 내_함수(인풋(optional)): \n",
    "* (인풋으로) 이거저거 해라.\n",
    "* result <= 결과물 출력.\n",
    "\n",
    "\n",
    "* capitalize()메서드를 사용하여 Python에서 문자열의 첫 글자를 대문자로 표시\n",
    "* title()메소드를 사용하여 Python에서 문자열의 첫 글자를 대문자로 표시\n",
    "* capwords()함수를 사용하여 Python에서 문자열의 첫 글자를 대문자로 표시\n",
    "* regex메소드를 사용하여 Python에서 문자열의 첫 글자를 대문자로 표시\n",
    "* 사용자 정의 방법을 사용하여 Python에서 문자열의 첫 글자를 대문자로 표시\n",
    "\n"
   ]
  },
  {
   "cell_type": "code",
   "execution_count": 118,
   "id": "99330478",
   "metadata": {},
   "outputs": [
    {
     "name": "stdout",
     "output_type": "stream",
     "text": [
      "Song Inhyeok\n",
      "6\n"
     ]
    },
    {
     "data": {
      "text/plain": [
       "17"
      ]
     },
     "execution_count": 118,
     "metadata": {},
     "output_type": "execute_result"
    }
   ],
   "source": [
    "def 영문_이름(f_name,l_name):\n",
    "    capitalized_f_name = f_name.title()\n",
    "    capitalized_l_name = l_name.title()\n",
    "    return f\"{capitalized_f_name} {capitalized_l_name}\"\n",
    "\n",
    "str1 = 영문_이름(\"song\",\"inhyeok\")\n",
    "print(str1)\n",
    "\n",
    "변수1 = math.ceil(5.1)\n",
    "print(변수1)\n",
    "\n",
    "변수1+11\n",
    "\n"
   ]
  },
  {
   "cell_type": "code",
   "execution_count": 120,
   "id": "94f0de82",
   "metadata": {},
   "outputs": [
    {
     "name": "stdout",
     "output_type": "stream",
     "text": [
      "입력물을 넣지 않았습니다.\n"
     ]
    }
   ],
   "source": [
    "def 영문_이름(f_name,l_name):\n",
    "    if f_name ==\"\" or l_name==\"\":\n",
    "        return \"입력물을 넣지 않았습니다.\"#사용자 정의함수의 break역할.\n",
    "    capitalized_f_name = f_name.title()\n",
    "    capitalized_l_name = l_name.title()\n",
    "    return f\"{capitalized_f_name} {capitalized_l_name}\"\n",
    "\n",
    "\n",
    "str1 = 영문_이름(\"song\",\"inhyeok\")\n",
    "print(str1)"
   ]
  },
  {
   "cell_type": "code",
   "execution_count": null,
   "id": "c9a0c89e",
   "metadata": {},
   "outputs": [],
   "source": []
  },
  {
   "cell_type": "code",
   "execution_count": 56,
   "id": "44d92a16",
   "metadata": {},
   "outputs": [
    {
     "name": "stdout",
     "output_type": "stream",
     "text": [
      "년도를 입력하세요20210\n",
      "월을 입력하세요2\n",
      "[20210] 년 2월은\n",
      "28 일 입니다.\n"
     ]
    }
   ],
   "source": [
    "\n",
    "#문제 : 입력 받는 년도,월의 일 수를 구하는 함수\n",
    "\n",
    "\n",
    "윤년일수 = [\"31\", \"29\", \"31\",\"30\",\n",
    "    \"31\", \"30\", \"31\",\"31\", \"30\", \"31\"\n",
    "    \"30\", \"31\"]\n",
    "\n",
    "평년일수 = [\"31\", \"28\", \"31\",\"30\",\n",
    "    \"31\", \"30\", \"31\",\"31\", \"30\", \"31\"\n",
    "    \"30\", \"31\"]\n",
    "\n",
    "def is_leap(년도):\n",
    "  if 년도 % 4 == 0:\n",
    "    if 년도 % 100 == 0:\n",
    "      if 년도 % 400 == 0:\n",
    "        return True # 윤년이면 True.\n",
    "      else:\n",
    "        return False # 윤년이 dkslau면 True.\n",
    "    else:\n",
    "        return True\n",
    "  else:\n",
    "    return False\n",
    "\n",
    "입력한년도 = int(input(\"년도를 입력하세요\"))\n",
    "년도 = [입력한년도]\n",
    "월 = int(input(\"월을 입력하세요\"))\n",
    "\n",
    "for i in 년도:\n",
    "    if is_leap(i) == True :\n",
    "        print(\"%s 년 %s월은\" %(년도,월))\n",
    "        print(윤년일수[월-1], \"일 입니다.\")\n",
    "    else :\n",
    "        print(\"%s 년 %s월은\" %(년도,월))\n",
    "        print(평년일수[월-1],\"일 입니다.\")\n",
    "    \n",
    "    \n"
   ]
  },
  {
   "cell_type": "code",
   "execution_count": 53,
   "id": "384cb88d",
   "metadata": {},
   "outputs": [
    {
     "name": "stdout",
     "output_type": "stream",
     "text": [
      "년도 입력: 2020\n",
      "달 입력: 2\n",
      "29\n"
     ]
    }
   ],
   "source": [
    "def is_leap(year):\n",
    "  if year % 4 == 0:\n",
    "    if year % 100 == 0:\n",
    "      if year % 400 == 0:\n",
    "        return True # 윤년이면 True.\n",
    "      else:\n",
    "        return False # 윤년이 아니면 False.\n",
    "    else:\n",
    "        return True\n",
    "  else:\n",
    "    return False\n",
    "    \n",
    "def days_in_month(year, month): # 1.년도 / 2.달 입력하면 해당 달의 일수를 돌려주는 함수를 만들어라.\"\n",
    "    month_days = [31,28,31,30,31,30,31,31,30,31,30,31]\n",
    "    # 입력한 월의 값이 옳지 않은경우. \n",
    "    if month > 12 or month < 1:\n",
    "        return(\"올바른 값을 입력 하세요\")\n",
    "    #윤년이면서 2월일 경우만\n",
    "    if month == 2 and is_leap(year) : # if is_leap(year): <= 위에서 만든 윤년 함수에, (인풋으로) year를 넣었을때 결과물이 \"True\"일 경우\n",
    "        return 29\n",
    "    return month_days[month-1]\n",
    "\n",
    "\n",
    "\n",
    "year = int(input(\"년도 입력: \"))\n",
    "month = int(input(\"달 입력: \"))\n",
    "days = days_in_month(year, month)\n",
    "print(days)\n",
    "\n",
    "# ex) 2022, 2월.   2000, 2월,  2021. 10월"
   ]
  },
  {
   "cell_type": "markdown",
   "id": "4be68bf1",
   "metadata": {},
   "source": [
    "# 실습 : 비번 생성기\n",
    "\n",
    "* 글자/숫자/특수문자를 사용자가 입력하는 글자수 만큼\n",
    "* 랜덤하게 섞은 비밀번호를 생성하시오.\n"
   ]
  },
  {
   "cell_type": "code",
   "execution_count": 5,
   "id": "44ea0ad8",
   "metadata": {},
   "outputs": [
    {
     "ename": "SyntaxError",
     "evalue": "invalid syntax (Temp/ipykernel_780/2847554631.py, line 21)",
     "output_type": "error",
     "traceback": [
      "\u001b[1;36m  File \u001b[1;32m\"C:\\Users\\ADMINI~1\\AppData\\Local\\Temp/ipykernel_780/2847554631.py\"\u001b[1;36m, line \u001b[1;32m21\u001b[0m\n\u001b[1;33m    for i in 문자추출\u001b[0m\n\u001b[1;37m                 ^\u001b[0m\n\u001b[1;31mSyntaxError\u001b[0m\u001b[1;31m:\u001b[0m invalid syntax\n"
     ]
    }
   ],
   "source": [
    "letters = ['a', 'b', 'c', 'd', 'e', 'f', 'g', 'h', 'i', 'j', 'k', 'l', 'm', 'n', 'o',\n",
    "            'p', 'q', 'r', 's', 't', 'u', 'v', 'w', 'x', 'y', 'z', \n",
    "           'A', 'B', 'C', 'D', 'E', 'F', 'G', 'H', 'I', 'J', 'K', 'L', 'M', 'N', 'O',\n",
    "           'P', 'Q', 'R', 'S', 'T', 'U', 'V', 'W', 'X', 'Y', 'Z']\n",
    "numbers = ['0', '1', '2', '3', '4', '5', '6', '7', '8', '9']\n",
    "symbols = ['!', '#', '$', '%', '&', '(', ')', '*', '+']\n",
    "\n",
    "\n",
    "\n",
    "#사용자가 6개를 원함\n",
    "#리스트 개수 카운트\n",
    "\n",
    "\n",
    "pn = int(input(\"원하는 패스워드 자릿수입력 (숫자) :\"))\n",
    "\n",
    "import random\n",
    "\n",
    "#랜덤하게 뽑은 수와 사용자가 원하는 수와 같게\n",
    "\n",
    "def 문자추출():\n",
    "    for i in 문자추출\n",
    "    random.choice(letters)\n",
    "    \n",
    "def 숫자추출():\n",
    "    for i in 문자추출\n",
    "    random.choice(numbers)\n",
    "\n",
    "def 특문추출():\n",
    "    random.choice(symbols)\n",
    "\n",
    "    \n",
    "for i in \n",
    "    if len(문자추출)+len(숫자추출)+len(특문추출) == pn:\n",
    "        print(i)\n",
    "\n",
    "\n",
    "#뽑은거 리스트로 만들어서 자릿수 만큼 추출"
   ]
  },
  {
   "cell_type": "code",
   "execution_count": 2,
   "id": "287c3c14",
   "metadata": {},
   "outputs": [
    {
     "name": "stdout",
     "output_type": "stream",
     "text": [
      "글자수를 입력 하시오:6\n",
      "us01Dw\n"
     ]
    }
   ],
   "source": [
    "letters = ['a', 'b', 'c', 'd', 'e', 'f', 'g', 'h', 'i', 'j', 'k', 'l', 'm', 'n', 'o',\n",
    "            'p', 'q', 'r', 's', 't', 'u', 'v', 'w', 'x', 'y', 'z', \n",
    "           'A', 'B', 'C', 'D', 'E', 'F', 'G', 'H', 'I', 'J', 'K', 'L', 'M', 'N', 'O',\n",
    "           'P', 'Q', 'R', 'S', 'T', 'U', 'V', 'W', 'X', 'Y', 'Z']\n",
    "numbers = ['0', '1', '2', '3', '4', '5', '6', '7', '8', '9']\n",
    "symbols = ['!', '#', '$', '%', '&', '(', ')', '*', '+']\n",
    "\n",
    "import random\n",
    "\n",
    "def 비번_생성기1(글자수):\n",
    "    pw_list = letters+numbers+symbols\n",
    "\n",
    "    pw = \"\"\n",
    "\n",
    "    for i in range(0,글자수):\n",
    "        pw += random.choice(pw_list)\n",
    "\n",
    "    return pw\n",
    "\n",
    "\n",
    "글자수 = int(input(\"글자수를 입력 하시오:\"))\n",
    "print(비번_생성기1(글자수))"
   ]
  },
  {
   "cell_type": "code",
   "execution_count": 3,
   "id": "d65454d2",
   "metadata": {},
   "outputs": [
    {
     "name": "stdout",
     "output_type": "stream",
     "text": [
      "글자수를 입력 하시오:2\n",
      "숫자수를 입력 하시오:2\n",
      "특수문자를 입력 하시오:2\n"
     ]
    },
    {
     "ename": "NameError",
     "evalue": "name '비번_생성기2' is not defined",
     "output_type": "error",
     "traceback": [
      "\u001b[0;31m---------------------------------------------------------------------------\u001b[0m",
      "\u001b[0;31mNameError\u001b[0m                                 Traceback (most recent call last)",
      "\u001b[0;32m/var/folders/cb/87qggcjj1kv9lvkrzx8s53tc0000gn/T/ipykernel_63170/2093227806.py\u001b[0m in \u001b[0;36m<module>\u001b[0;34m\u001b[0m\n\u001b[1;32m     11\u001b[0m \u001b[0m숫자수\u001b[0m \u001b[0;34m=\u001b[0m \u001b[0mint\u001b[0m\u001b[0;34m(\u001b[0m\u001b[0minput\u001b[0m\u001b[0;34m(\u001b[0m\u001b[0;34m\"숫자수를 입력 하시오:\"\u001b[0m\u001b[0;34m)\u001b[0m\u001b[0;34m)\u001b[0m\u001b[0;34m\u001b[0m\u001b[0;34m\u001b[0m\u001b[0m\n\u001b[1;32m     12\u001b[0m \u001b[0m특수문자수\u001b[0m \u001b[0;34m=\u001b[0m \u001b[0mint\u001b[0m\u001b[0;34m(\u001b[0m\u001b[0minput\u001b[0m\u001b[0;34m(\u001b[0m\u001b[0;34m\"특수문자를 입력 하시오:\"\u001b[0m\u001b[0;34m)\u001b[0m\u001b[0;34m)\u001b[0m\u001b[0;34m\u001b[0m\u001b[0;34m\u001b[0m\u001b[0m\n\u001b[0;32m---> 13\u001b[0;31m \u001b[0m비번_생성기2\u001b[0m\u001b[0;34m(\u001b[0m\u001b[0m글자수\u001b[0m\u001b[0;34m,\u001b[0m \u001b[0m숫자수\u001b[0m\u001b[0;34m,\u001b[0m \u001b[0m특수문자수\u001b[0m\u001b[0;34m)\u001b[0m\u001b[0;34m\u001b[0m\u001b[0;34m\u001b[0m\u001b[0m\n\u001b[0m\u001b[1;32m     14\u001b[0m \u001b[0;34m\u001b[0m\u001b[0m\n\u001b[1;32m     15\u001b[0m \u001b[0;32mdef\u001b[0m \u001b[0m비번_생성기2\u001b[0m\u001b[0;34m(\u001b[0m\u001b[0m글자수\u001b[0m\u001b[0;34m,\u001b[0m \u001b[0m숫자수\u001b[0m\u001b[0;34m,\u001b[0m \u001b[0m특수문자수\u001b[0m\u001b[0;34m)\u001b[0m\u001b[0;34m:\u001b[0m\u001b[0;34m\u001b[0m\u001b[0;34m\u001b[0m\u001b[0m\n",
      "\u001b[0;31mNameError\u001b[0m: name '비번_생성기2' is not defined"
     ]
    }
   ],
   "source": [
    "letters = ['a', 'b', 'c', 'd', 'e', 'f', 'g', 'h', 'i', 'j', 'k', 'l', 'm', 'n', 'o',\n",
    "            'p', 'q', 'r', 's', 't', 'u', 'v', 'w', 'x', 'y', 'z', \n",
    "           'A', 'B', 'C', 'D', 'E', 'F', 'G', 'H', 'I', 'J', 'K', 'L', 'M', 'N', 'O',\n",
    "           'P', 'Q', 'R', 'S', 'T', 'U', 'V', 'W', 'X', 'Y', 'Z']\n",
    "numbers = ['0', '1', '2', '3', '4', '5', '6', '7', '8', '9']\n",
    "symbols = ['!', '#', '$', '%', '&', '(', ')', '*', '+']\n",
    "\n",
    "import random\n",
    "\n",
    "글자수 = int(input(\"글자수를 입력 하시오:\"))\n",
    "숫자수 = int(input(\"숫자수를 입력 하시오:\"))\n",
    "특수문자수 = int(input(\"특수문자를 입력 하시오:\"))\n",
    "비번_생성기2(글자수, 숫자수, 특수문자수)\n",
    "\n",
    "def 비번_생성기2(글자수, 숫자수, 특수문자수):\n",
    "    password_list = []\n",
    "\n",
    "    for char in range(1, 글자수+1):\n",
    "        password_list.append(random.choice(letters))\n",
    "\n",
    "    for char in range(1, 숫자수+1):\n",
    "        password_list.append(random.choice(numbers))\n",
    "\n",
    "    for char in range(1, 특수문자수+1):\n",
    "        password_list.append(random.choice(symbols))\n",
    "\n",
    "    print(password_list)\n",
    "    random.shuffle(password_list)\n",
    "    print(password_list)\n",
    "\n",
    "    pw = \"\"\n",
    "    for i in password_list:\n",
    "        pw += i\n",
    "\n",
    "    return (f\"최종 결과물: {pw}입니다\")\n",
    "\n",
    "비번_생성기2(글자수, 숫자수, 특수문자수)"
   ]
  },
  {
   "cell_type": "code",
   "execution_count": 1,
   "id": "11f3d2fc",
   "metadata": {},
   "outputs": [
    {
     "data": {
      "text/plain": [
       "{'학생1': '호박', '학생2': '류도영', '학생3': '김씨가족'}"
      ]
     },
     "execution_count": 1,
     "metadata": {},
     "output_type": "execute_result"
    }
   ],
   "source": [
    "my_dict = {\"학생1\" : \"호박\",\"학생2\" : \"류도영\",\"학생3\" : \"김씨가족\" }\n",
    "\n",
    "my_dict"
   ]
  },
  {
   "cell_type": "code",
   "execution_count": 2,
   "id": "ddf4f191",
   "metadata": {},
   "outputs": [
    {
     "name": "stdout",
     "output_type": "stream",
     "text": [
      "호박\n",
      "류도영\n",
      "김씨가족\n"
     ]
    }
   ],
   "source": [
    "for std in my_dict.values():\n",
    "    print(std)"
   ]
  },
  {
   "cell_type": "code",
   "execution_count": 5,
   "id": "ff13d06c",
   "metadata": {},
   "outputs": [
    {
     "name": "stdout",
     "output_type": "stream",
     "text": [
      "학생1\n",
      "학생2\n",
      "학생3\n"
     ]
    }
   ],
   "source": [
    "for std in my_dict.keys():\n",
    "    print(std)"
   ]
  },
  {
   "cell_type": "code",
   "execution_count": 7,
   "id": "25559fee",
   "metadata": {},
   "outputs": [
    {
     "name": "stdout",
     "output_type": "stream",
     "text": [
      "학생1 호박\n",
      "학생2 류도영\n",
      "학생3 김씨가족\n"
     ]
    }
   ],
   "source": [
    "for key, val in my_dict.items():\n",
    "    print(key, val)"
   ]
  },
  {
   "cell_type": "code",
   "execution_count": 25,
   "id": "2ab88c83",
   "metadata": {},
   "outputs": [
    {
     "data": {
      "text/plain": [
       "['호박', '호박', '학생2', '류도영', '학생3', '김씨가족', 'dj']"
      ]
     },
     "execution_count": 25,
     "metadata": {},
     "output_type": "execute_result"
    }
   ],
   "source": [
    "my_dict = [\"학생1\",  \"호박\",\"학생2\",\"류도영\",\"학생3\", \"김씨가족\" ]\n",
    "\n",
    "my_dict[0] = \"호박\"\n",
    "my_dict\n",
    "\n",
    "my_dict.append(\"dj\")\n",
    "my_dict"
   ]
  },
  {
   "cell_type": "code",
   "execution_count": 16,
   "id": "16dc132a",
   "metadata": {},
   "outputs": [
    {
     "name": "stdout",
     "output_type": "stream",
     "text": [
      "소수인지 확인할 숫자를 입력하세요 : 6\n"
     ]
    },
    {
     "data": {
      "text/plain": [
       "'소수 x'"
      ]
     },
     "execution_count": 16,
     "metadata": {},
     "output_type": "execute_result"
    }
   ],
   "source": [
    "#소수 판별기\n",
    "\n",
    "def 소수판별(숫자):\n",
    "    \n",
    "    인수카운터 = 0\n",
    "    \n",
    "    for i in range(2,숫자):\n",
    "        if 숫자 % i == 0 :\n",
    "            인수카운터 += 1\n",
    "    \n",
    "    if 인수카운터 == 0 :\n",
    "        return(\"소수 ㅇ\")\n",
    "    \n",
    "    else :\n",
    "        return(\"소수 x\")\n",
    "        \n",
    "\n",
    "확인할숫자 = int(input(\"소수인지 확인할 숫자를 입력하세요 : \"))\n",
    "\n",
    "소수판별(확인할숫자)\n",
    "        \n",
    "     \n",
    "    "
   ]
  },
  {
   "cell_type": "code",
   "execution_count": 9,
   "id": "8dee66a1",
   "metadata": {},
   "outputs": [
    {
     "data": {
      "text/plain": [
       "['s', 'l', '3', '2', '+', '#']"
      ]
     },
     "execution_count": 9,
     "metadata": {},
     "output_type": "execute_result"
    }
   ],
   "source": [
    "letters = ['a', 'b', 'c', 'd', 'e', 'f', 'g', 'h', 'i', 'j', 'k', 'l', 'm', 'n', 'o',\n",
    "                'p', 'q', 'r', 's', 't', 'u', 'v', 'w', 'x', 'y', 'z', \n",
    "               'A', 'B', 'C', 'D', 'E', 'F', 'G', 'H', 'I', 'J', 'K', 'L', 'M', 'N', 'O',\n",
    "               'P', 'Q', 'R', 'S', 'T', 'U', 'V', 'W', 'X', 'Y', 'Z']\n",
    "numbers = ['0', '1', '2', '3', '4', '5', '6', '7', '8', '9']\n",
    "symbols = ['!', '#', '$', '%', '&', '(', ')', '*', '+']\n",
    "\n",
    "\n",
    "import random\n",
    "\n",
    "def 비번생성(글자수,숫자수,특수문자수):\n",
    "    \n",
    "    \n",
    "    password_list = []\n",
    "    \n",
    "    for 글자 in range(1,글자수+1):\n",
    "        password_list.append(random.choice(letters))\n",
    "    for 글자 in range(1,숫자수+1):\n",
    "        password_list.append(random.choice(numbers))\n",
    "    for 글자 in range(1,특수문자수+1):\n",
    "        password_list.append(random.choice(symbols))\n",
    "        \n",
    "    return(password_list)  \n",
    "    random.shuffle(password_list)\n",
    "    return(password_list)\n",
    "    \n",
    "    pw = \"\"\n",
    "    for i in password_list:\n",
    "        pw += i \n",
    "\n",
    "    글자수 = int(input(\"글자 수를 입력 하시오:\"))\n",
    "    숫자수 = int(input(\"숫자 수를 입력 하시오:\"))\n",
    "    특수문자수 = int(input(\"특수문자 수를 입력 하시오:\"))\n",
    "\n",
    "비번생성(글자수,숫자수,특수문자수)\n",
    "\n"
   ]
  },
  {
   "cell_type": "code",
   "execution_count": 11,
   "id": "0792e407",
   "metadata": {},
   "outputs": [
    {
     "name": "stdout",
     "output_type": "stream",
     "text": [
      "글자수를 입력 하시오:2\n",
      "숫자수를 입력 하시오:2\n",
      "특수문자를 입력 하시오:2\n",
      "['w', 'f', '1', '4', '*', ')']\n",
      "['1', '*', ')', 'w', 'f', '4']\n"
     ]
    },
    {
     "data": {
      "text/plain": [
       "'최종 결과물: 1*)wf4입니다'"
      ]
     },
     "execution_count": 11,
     "metadata": {},
     "output_type": "execute_result"
    }
   ],
   "source": [
    "letters = ['a', 'b', 'c', 'd', 'e', 'f', 'g', 'h', 'i', 'j', 'k', 'l', 'm', 'n', 'o',\n",
    "            'p', 'q', 'r', 's', 't', 'u', 'v', 'w', 'x', 'y', 'z', \n",
    "           'A', 'B', 'C', 'D', 'E', 'F', 'G', 'H', 'I', 'J', 'K', 'L', 'M', 'N', 'O',\n",
    "           'P', 'Q', 'R', 'S', 'T', 'U', 'V', 'W', 'X', 'Y', 'Z']\n",
    "numbers = ['0', '1', '2', '3', '4', '5', '6', '7', '8', '9']\n",
    "symbols = ['!', '#', '$', '%', '&', '(', ')', '*', '+']\n",
    "\n",
    "\n",
    "\n",
    "\n",
    "def 비번_생성(글자수, 숫자수, 특수문자수):\n",
    "    password_list = []\n",
    "\n",
    "    for char in range(1, 글자수+1):\n",
    "        password_list.append(random.choice(letters))\n",
    "\n",
    "    for char in range(1, 숫자수+1):\n",
    "        password_list.append(random.choice(numbers))\n",
    "\n",
    "    for char in range(1, 특수문자수+1):\n",
    "        password_list.append(random.choice(symbols))\n",
    "\n",
    "    print(password_list)\n",
    "    random.shuffle(password_list)\n",
    "    print(password_list)\n",
    "\n",
    "    pw = \"\"\n",
    "    for i in password_list:\n",
    "        pw += i\n",
    "\n",
    "    return (f\"최종 결과물: {pw}입니다\")\n",
    "\n",
    "글자수 = int(input(\"글자수를 입력 하시오:\"))\n",
    "숫자수 = int(input(\"숫자수를 입력 하시오:\"))\n",
    "특수문자수 = int(input(\"특수문자를 입력 하시오:\"))\n",
    "비번_생성(글자수, 숫자수, 특수문자수)"
   ]
  },
  {
   "cell_type": "code",
   "execution_count": null,
   "id": "fe332177",
   "metadata": {},
   "outputs": [],
   "source": []
  }
 ],
 "metadata": {
  "kernelspec": {
   "display_name": "Python 3 (ipykernel)",
   "language": "python",
   "name": "python3"
  },
  "language_info": {
   "codemirror_mode": {
    "name": "ipython",
    "version": 3
   },
   "file_extension": ".py",
   "mimetype": "text/x-python",
   "name": "python",
   "nbconvert_exporter": "python",
   "pygments_lexer": "ipython3",
   "version": "3.8.3"
  }
 },
 "nbformat": 4,
 "nbformat_minor": 5
}
