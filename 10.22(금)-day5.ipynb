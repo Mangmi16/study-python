{
 "cells": [
  {
   "cell_type": "code",
   "execution_count": null,
   "id": "c720855f",
   "metadata": {},
   "outputs": [],
   "source": [
    "#총 볼륨 구하기\n",
    "#사용자에게 입력받은 두수를 곱해 = 곱한값\n",
    "#곱한값 + 새로운 곱한값\n",
    "\n",
    "#받고 곱하고 더하고, 받고 곱하고 더 하고\n",
    "\n",
    "무게 = int(input(\"무게\"))\n",
    "횟수 = int(input(\"횟수\"))\n",
    "while not 무게 == 0:\n",
    "    int(input(\"무게\"))\n",
    "    int(input(\"횟수\"))\n",
    "볼륨 = 무게*횟수\n",
    "볼륨 \n"
   ]
  },
  {
   "cell_type": "code",
   "execution_count": 7,
   "id": "ba5ff22f",
   "metadata": {},
   "outputs": [
    {
     "name": "stdout",
     "output_type": "stream",
     "text": [
      "수12\n"
     ]
    },
    {
     "ename": "TypeError",
     "evalue": "'int' object is not iterable",
     "output_type": "error",
     "traceback": [
      "\u001b[1;31m---------------------------------------------------------------------------\u001b[0m",
      "\u001b[1;31mTypeError\u001b[0m                                 Traceback (most recent call last)",
      "\u001b[1;32mC:\\Users\\ADMINI~1\\AppData\\Local\\Temp/ipykernel_6632/28982848.py\u001b[0m in \u001b[0;36m<module>\u001b[1;34m\u001b[0m\n\u001b[0;32m      2\u001b[0m \u001b[0mi\u001b[0m \u001b[1;33m=\u001b[0m \u001b[1;36m1\u001b[0m\u001b[1;33m\u001b[0m\u001b[1;33m\u001b[0m\u001b[0m\n\u001b[0;32m      3\u001b[0m \u001b[1;32mfor\u001b[0m \u001b[0mi\u001b[0m \u001b[1;32min\u001b[0m \u001b[0m무게\u001b[0m\u001b[1;33m:\u001b[0m\u001b[1;33m\u001b[0m\u001b[1;33m\u001b[0m\u001b[0m\n\u001b[1;32m----> 4\u001b[1;33m     \u001b[0m무게\u001b[0m\u001b[1;33m+=\u001b[0m\u001b[0mi\u001b[0m\u001b[1;33m\u001b[0m\u001b[1;33m\u001b[0m\u001b[0m\n\u001b[0m\u001b[0;32m      5\u001b[0m     \u001b[0m무게\u001b[0m\u001b[1;33m\u001b[0m\u001b[1;33m\u001b[0m\u001b[0m\n",
      "\u001b[1;31mTypeError\u001b[0m: 'int' object is not iterable"
     ]
    }
   ],
   "source": [
    "무게 = [int(input(\"수\"))]\n",
    "i = 1\n",
    "for i in 무게:\n",
    "    무게+=i\n",
    "    무게"
   ]
  },
  {
   "cell_type": "markdown",
   "id": "66a3caa3",
   "metadata": {},
   "source": [
    "사용자가 원하는 만큼의 키를 받아서 리스트를 만들기\n",
    "방법 1 데이터를 얼마나 입력 할 것인가 미리 받아서\n",
    "방법 2 추가 입력의사를 보이는 한 계속 받기\n",
    "\n"
   ]
  },
  {
   "cell_type": "code",
   "execution_count": 13,
   "id": "0b6f5b36",
   "metadata": {},
   "outputs": [
    {
     "ename": "SyntaxError",
     "evalue": "invalid syntax (Temp/ipykernel_6080/363646234.py, line 4)",
     "output_type": "error",
     "traceback": [
      "\u001b[1;36m  File \u001b[1;32m\"C:\\Users\\ADMINI~1\\AppData\\Local\\Temp/ipykernel_6080/363646234.py\"\u001b[1;36m, line \u001b[1;32m4\u001b[0m\n\u001b[1;33m    if 추가입력 == lower.(y):\u001b[0m\n\u001b[1;37m                     ^\u001b[0m\n\u001b[1;31mSyntaxError\u001b[0m\u001b[1;31m:\u001b[0m invalid syntax\n"
     ]
    }
   ],
   "source": [
    "키 = []\n",
    "추가입력 = input('추가입력 y/n')\n",
    "\n",
    "if 추가입력 == lower.(y):\n",
    "    append.키(input(\"키를입력\"))\n",
    "else :\n",
    "    print(키)\n"
   ]
  },
  {
   "cell_type": "code",
   "execution_count": 4,
   "id": "3b20a0c8",
   "metadata": {},
   "outputs": [
    {
     "name": "stdout",
     "output_type": "stream",
     "text": [
      "입력하고자 하는 데이터 수는 몇 개입니까?5\n",
      "data entry # 1 : 5\n",
      "data entry # 2 : 5\n",
      "data entry # 3 : 5\n",
      "data entry # 4 : 5\n",
      "data entry # 5 : 5\n",
      "현재 누적학생키는: 0\n",
      "현재 누적학생키는: 5\n",
      "현재 누적학생키는: 10\n",
      "현재 누적학생키는: 15\n",
      "현재 누적학생키는: 20\n",
      "최종 누적키  25\n",
      "평균키  5.0\n"
     ]
    }
   ],
   "source": [
    "# 방법 1 : 몇개의 데이터를 입력할 것인가를 미리 받아서\n",
    "\n",
    "input_count = int(input(\"입력하고자 하는 데이터 수는 몇 개입니까?\"))\n",
    "input_list = []\n",
    "\n",
    "for i in range(0,input_count):\n",
    "    input_list.append(int(input(\"data entry # %s : \" %(i+1))))\n",
    "\n",
    "input_list\n",
    "\n",
    "\n",
    "sum_of_height = 0\n",
    "\n",
    "for i in input_list:\n",
    "    print(\"현재 누적학생키는:\", sum_of_height)\n",
    "    \n",
    "    sum_of_height += i\n",
    "\n",
    "\n",
    "print(\"최종 누적키 \", sum_of_height)\n",
    "print(\"평균키 \", sum_of_height/input_count)"
   ]
  },
  {
   "cell_type": "code",
   "execution_count": 7,
   "id": "c3287a72",
   "metadata": {},
   "outputs": [
    {
     "name": "stdout",
     "output_type": "stream",
     "text": [
      "1\n",
      "a\n",
      "b\n",
      "C\n",
      "2\n",
      "a\n",
      "b\n",
      "C\n",
      "3\n",
      "a\n",
      "b\n",
      "C\n"
     ]
    }
   ],
   "source": [
    "for i in (1,2,3):\n",
    "    print(i)\n",
    "    for j in (\"a\", \"b\",\"C\"):\n",
    "        print(j)"
   ]
  },
  {
   "cell_type": "code",
   "execution_count": null,
   "id": "ae57e681",
   "metadata": {},
   "outputs": [],
   "source": [
    "# 방법 2 : 사용자가 추가입력 의사를 보이는 한 계속 받기\n",
    "\n",
    "input_count = 'y'\n",
    "input_list = []\n",
    "\n",
    "while input_count == 'y':\n",
    "\n",
    "    input_value = int(input(\"값을 입력하세요: \"))\n",
    "    input_list.append(input_value)\n",
    "\n",
    "    input_count = input(\"추가로 입력하시겠습니까?(y/n)\").lower()\n",
    "input_list\n"
   ]
  },
  {
   "cell_type": "code",
   "execution_count": null,
   "id": "571f675e",
   "metadata": {},
   "outputs": [],
   "source": [
    "#실습 : 사용자가 원하는 만큼의 data entry를 받아서 list\n",
    "\n",
    "# 방법 3 : ,로 나누어 입력받기\n",
    "\n",
    "user_input = input(\"입력하시려는 수를 ,로 나누어 입력하세요\").split(\",\")\n",
    "print(\"입력하신 값:\", user_input)\n",
    "sum = 0\n",
    "\n",
    "for i in user_input:\n",
    "    sum += int(i)\n",
    "\n",
    "print(\"전체합 / 갯수  %s/%s\" %(sum, len(user_input)))\n",
    "print(\"전체 평균: \", sum/len(user_input))\n"
   ]
  },
  {
   "cell_type": "markdown",
   "id": "3a6558a7",
   "metadata": {},
   "source": [
    "# 예외처리 \n",
    "\n",
    "예외란? <<- 에러 예외처리 <- 에러가 발했을 경우 ~ 해라 <- 이걸 왜 하느냐?\n",
    "\n",
    "클롤링 : 1.웹에 올라가서 ->\n",
    "\n",
    "반복 : 데이터를 긁어오는데 list.append()로 리스트에 저장\n",
    "저장한 리스트를 취합하여 dataframe 형태로 변환, -> csv/xls로 저장\n",
    "2번 과정에서 에러가 나면 저장하기 전에 프로그램이 멈춘다. 따라서 다른 데이터도 긁어서 저장하기 위해 에러 처리를 해준다.\n",
    "\n"
   ]
  },
  {
   "cell_type": "markdown",
   "id": "5a212382",
   "metadata": {},
   "source": [
    "# 문법\n",
    "\n",
    "try :\n",
    "    예외가 발생할 문장\n",
    "except 예외 종류 :                       # try 와 except는 친구\n",
    "    예외가 발생하면 실행할 문장\n",
    "else :\n",
    "    예외가 발생하지 않을 때 실행할 문장\n",
    "\n",
    "    \n",
    "  "
   ]
  },
  {
   "cell_type": "markdown",
   "id": "1b354c0c",
   "metadata": {},
   "source": []
  },
  {
   "cell_type": "code",
   "execution_count": 12,
   "id": "8cff8ad9",
   "metadata": {},
   "outputs": [
    {
     "name": "stdout",
     "output_type": "stream",
     "text": [
      "정상작동할 경우\n",
      "\"숫자\"를 입력하세요:5\n",
      "5\n"
     ]
    }
   ],
   "source": [
    "#\n",
    "print(\"정상작동할 경우\")\n",
    "no1 = int(input('\"숫자\"를 입력하세요:'))\n",
    "print(no1)"
   ]
  },
  {
   "cell_type": "code",
   "execution_count": 4,
   "id": "319b3125",
   "metadata": {},
   "outputs": [
    {
     "name": "stdout",
     "output_type": "stream",
     "text": [
      "\"숫자\"를 입력하세요:숫자\n",
      "\"숫자\"를 입력하라고!\n"
     ]
    }
   ],
   "source": [
    "try:\n",
    "    no1 = int(input('\"숫자\"를 입력하세요:'))\n",
    "except:\n",
    "    print('\"숫자\"를 입력하라고!')"
   ]
  },
  {
   "cell_type": "code",
   "execution_count": 1,
   "id": "8b23fb05",
   "metadata": {},
   "outputs": [
    {
     "name": "stdout",
     "output_type": "stream",
     "text": [
      "\"숫자\"를 입력하세요:56\n",
      "100 나누기 56 는 1.7857142857142858입니다.\n"
     ]
    }
   ],
   "source": [
    "try:\n",
    "    no1 = int(input('\"숫자\"를 입력하세요:'))\n",
    "    no2 = 100/no1\n",
    "except ValueError :\n",
    "    print('\"숫자\"를 입력하라고!')\n",
    "except ZeroDivisionError :\n",
    "    print(\"'0'은 입력하실 수 없습니다.\")\n",
    "except :\n",
    "    print(\"unkown error\")\n",
    "else :\n",
    "    print(\"100 나누기 %s 는 %s입니다.\"%(no1,no2))"
   ]
  },
  {
   "cell_type": "markdown",
   "id": "ade9b293",
   "metadata": {},
   "source": [
    "# 연습문제:\n",
    "\n",
    "이름 = [\"홍길동\",'신사임당','일지매', '전우치', '강감찬']\n",
    "사용자에게 출력한 건수를 입력 받아서\n",
    "입력받은 수 만큼 앞에서 부터 출력을 하세요.\n",
    "요소수 보다 많이 입력할 경우 \"모든 행이 출력 완료되었습니다.\"라고 표시하는 예외처리"
   ]
  },
  {
   "cell_type": "code",
   "execution_count": 60,
   "id": "7483e353",
   "metadata": {},
   "outputs": [
    {
     "name": "stdout",
     "output_type": "stream",
     "text": [
      "건수2\n",
      "홍길동\n",
      "신사임당\n"
     ]
    }
   ],
   "source": [
    "이름인풋 = [\"홍길동\",'신사임당','일지매', '전우치', '강감찬']\n",
    "#이름 = 이름인풋.split(\",\") 스플릿은 문자열만 가능\n",
    "건수인풋 = int(input(\"건수\"))\n",
    "\n",
    "try :\n",
    "    for i in range(0,건수인풋):\n",
    "        print(이름인풋[i])\n",
    "except:\n",
    "    print(\"5 까지만\")\n",
    "  "
   ]
  },
  {
   "cell_type": "markdown",
   "id": "59fc1233",
   "metadata": {},
   "source": [
    "# 행맨 규칙\n",
    "* 랜덤하게 단어 생성\n",
    " -리스트 단어 3개 정도 <- random 추출 \n",
    " random.choice()\n",
    "* 라이프(생명포인트) 단어만큼\"_\"출력한다.\n",
    "* user에게서 입력을 받는다.\n",
    "* 3의 입력물이 1.외단어 스펠링 중 포함되는지 확인 for loop써서 단어의 스펠링 글자단위 확인\n",
    "* 5-1 4의 결과물이 맞는 스펠링이 하나라도 있는경우\n",
    "- 맞는 스펠링 표시\n",
    "* 5-2 4의 결과물이 맞는 스펠링이 없을 경우 - 라이프 -=1\n",
    "\n",
    "* 2~5 반복되는 조건? 생명이 남아있거나 단어를 다 맞췄을때\n",
    "\n",
    " "
   ]
  },
  {
   "cell_type": "code",
   "execution_count": null,
   "id": "1d63a9ba",
   "metadata": {},
   "outputs": [
    {
     "name": "stdout",
     "output_type": "stream",
     "text": [
      "현재 life는 : 5\n",
      "['_', '_', '_', '_', '_', '_']\n",
      "글자를 하나 입력하세요: a\n",
      "현재 life는 : 5\n",
      "['_', '_', '_', '_', '_', '_']\n",
      "글자를 하나 입력하세요: b\n",
      "현재 life는 : 5\n",
      "['_', '_', '_', '_', '_', '_']\n",
      "글자를 하나 입력하세요: b\n",
      "현재 life는 : 5\n",
      "['_', '_', '_', '_', '_', '_']\n"
     ]
    }
   ],
   "source": [
    "#1. 랜덤 단어 생성\n",
    "word_list = [\"apple\", \"banana\", \"Cat\"]\n",
    "import random\n",
    "the_word = random.choice(word_list)\n",
    "\n",
    "라이프 = 5\n",
    "맞춰야하는글자 = len(the_word)\n",
    "빈칸 = list(\"_\"*len(the_word))\n",
    "\n",
    "\n",
    "while 라이프 > 0 and 맞춰야하는글자 > 0 :  # 2가지 조건이 모두 만족되면 2~5을 반복한다\n",
    "    #2-1.라이프(생명포인트) 출력\n",
    "    #2-2.단어의 글자수 만큼 \"_\" 출력한다 \n",
    "    print(\"현재 life는 :\", 라이프)\n",
    "    print(빈칸)\n",
    "\n",
    "    #3. user에게서 입력을 받는다.\n",
    "    user_input = input(\"글자를 하나 입력하세요: \")\n",
    "\n",
    "    #4. user_input이 the_word[] 중 포함되는지 확인 for loop 써서 단어의 스펠링 글자단위 확인\n",
    "    for i in range(0,len(the_word) ):\n",
    "        if the_word[i] == user_input: #사용자가 맞추면\n",
    "            맞춰야하는글자 -= 1\n",
    "            빈칸[i] = user_input\n"
   ]
  },
  {
   "cell_type": "code",
   "execution_count": null,
   "id": "b34738f1",
   "metadata": {},
   "outputs": [],
   "source": []
  },
  {
   "cell_type": "code",
   "execution_count": null,
   "id": "211b2fed",
   "metadata": {},
   "outputs": [],
   "source": []
  }
 ],
 "metadata": {
  "kernelspec": {
   "display_name": "Python 3 (ipykernel)",
   "language": "python",
   "name": "python3"
  },
  "language_info": {
   "codemirror_mode": {
    "name": "ipython",
    "version": 3
   },
   "file_extension": ".py",
   "mimetype": "text/x-python",
   "name": "python",
   "nbconvert_exporter": "python",
   "pygments_lexer": "ipython3",
   "version": "3.8.3"
  }
 },
 "nbformat": 4,
 "nbformat_minor": 5
}
