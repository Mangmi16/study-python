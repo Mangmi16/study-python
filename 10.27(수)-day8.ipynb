{
 "cells": [
  {
   "cell_type": "code",
   "execution_count": 1,
   "id": "0112993a",
   "metadata": {},
   "outputs": [
    {
     "name": "stdout",
     "output_type": "stream",
     "text": [
      "계정을 만드실?y\n",
      "아이디를 입력하세요vlwk9797\n",
      "글자수를 입력 하시오:2\n",
      "숫자수를 입력 하시오:22\n",
      "특수문자를 입력 하시오:2\n",
      "계정을 만드실?y\n",
      "아이디를 입력하세요sdadas\n",
      "글자수를 입력 하시오:2\n",
      "숫자수를 입력 하시오:2\n",
      "특수문자를 입력 하시오:2\n",
      "계정을 만드실?saasfafsasf\n",
      "n 또는 y 로 답해라\n",
      "계정을 만드실?n\n"
     ]
    },
    {
     "data": {
      "text/plain": [
       "{'vlwk9797': '768836745554288qh+!4793778', 'sdadas': '$t2+i5'}"
      ]
     },
     "execution_count": 1,
     "metadata": {},
     "output_type": "execute_result"
    }
   ],
   "source": [
    "ID_PW = {}\n",
    "letters = ['a', 'b', 'c', 'd', 'e', 'f', 'g', 'h', 'i', 'j', 'k', 'l', 'm', 'n', 'o',\n",
    "                'p', 'q', 'r', 's', 't', 'u', 'v', 'w', 'x', 'y', 'z', \n",
    "               'A', 'B', 'C', 'D', 'E', 'F', 'G', 'H', 'I', 'J', 'K', 'L', 'M', 'N', 'O',\n",
    "               'P', 'Q', 'R', 'S', 'T', 'U', 'V', 'W', 'X', 'Y', 'Z']\n",
    "numbers = ['0', '1', '2', '3', '4', '5', '6', '7', '8', '9']\n",
    "symbols = ['!', '#', '$', '%', '&', '(', ')', '*', '+']\n",
    "\n",
    "\n",
    "\n",
    "def 비번(글자수,숫자수,특수문자수):\n",
    "   \n",
    "    import random\n",
    "\n",
    "    password_list = []\n",
    "\n",
    "    for char in range(1, 글자수+1):\n",
    "        password_list.append(random.choice(letters))\n",
    "\n",
    "    for char in range(1, 숫자수+1):\n",
    "        password_list.append(random.choice(numbers))\n",
    "\n",
    "    for char in range(1, 특수문자수+1):\n",
    "        password_list.append(random.choice(symbols))\n",
    "\n",
    "    random.shuffle(password_list)\n",
    "\n",
    "\n",
    "\n",
    "    pw = \"\"\n",
    "    for i in password_list:\n",
    "        pw += i\n",
    "\n",
    "    return pw\n",
    "\n",
    "\n",
    "\n",
    "def PW_saver(id,pw):\n",
    "    ID_PW[id] = pw\n",
    "    \n",
    "    \n",
    "\n",
    "\n",
    "\n",
    "while True:\n",
    "    계속 = input(\"계정을 만드실?\")\n",
    "    if 계속 == \"n\":\n",
    "        break\n",
    "    if 계속 == \"y\":\n",
    "        ID = input(\"아이디를 입력하세요\")\n",
    "        글자수 = int(input(\"글자수를 입력 하시오:\"))\n",
    "        숫자수 = int(input(\"숫자수를 입력 하시오:\"))\n",
    "        특수문자수 = int(input(\"특수문자를 입력 하시오:\"))  \n",
    "        PW_saver(ID,비번(글자수, 숫자수, 특수문자수))\n",
    "    else :\n",
    "        print(\"n 또는 y 로 답해라\")\n",
    "        \n",
    "ID_PW\n",
    "\n"
   ]
  },
  {
   "cell_type": "code",
   "execution_count": 3,
   "id": "9d7148c0",
   "metadata": {},
   "outputs": [
    {
     "name": "stdout",
     "output_type": "stream",
     "text": [
      "회원가입할 아이디를 입력하세요 sdasdsa\n",
      "{'vlwk9797': '3K$H#5'}\n"
     ]
    }
   ],
   "source": [
    "ID = input(\"회원가입할 아이디를 입력하세요 \")\n",
    "\n",
    "\n",
    "while False:\n",
    "    ID_PW[ID] = pw        \n",
    "    PW_saver(id,pw)  \n",
    "    \n",
    "    for key in ID_PW:\n",
    "        그만 = input(\"회원가입계속?\")\n",
    "        if key == ID:\n",
    "            print(\"이미 사용중인 아이디 입니다.\")\n",
    "            break\n",
    "        else:\n",
    "            print(\"사용가능한 아이디 입니다.\")\n",
    "            pw  = input(\"비밀번호4자리\") \n",
    "    \n",
    "    if 그만 == \"n\":\n",
    "        False \n",
    "    \n",
    "       \n",
    "    \n",
    "print(ID_PW)\n",
    "   "
   ]
  },
  {
   "cell_type": "code",
   "execution_count": null,
   "id": "4e37509a",
   "metadata": {},
   "outputs": [],
   "source": []
  },
  {
   "cell_type": "code",
   "execution_count": 10,
   "id": "429a57c2",
   "metadata": {},
   "outputs": [
    {
     "name": "stdout",
     "output_type": "stream",
     "text": [
      "마스터키를 입력하시오: MasterKey123\n",
      "ID is :  vlwk9797\n",
      "PW is :  3#+Ir5\n",
      "ID is :  sohng0154\n",
      "PW is :  ()U69I\n",
      "ID is :  dsadsa\n",
      "PW is :  9c(w$1\n"
     ]
    }
   ],
   "source": [
    "count = 1\n",
    "\n",
    "while True :\n",
    "    MK = input(\"마스터키를 입력하시오: \")\n",
    "    if MK == \"MasterKey123\":\n",
    "        for i in ID_PW:\n",
    "            print(\"ID is : \", i)\n",
    "            print(\"PW is : \",ID_PW[i] )\n",
    "        break\n",
    "    else:\n",
    "        print(\"올바르지 못한 키값입니다.\")\n",
    "    \n",
    "    if count > 3:\n",
    "        print(\"입력 한도를 초과하였습니다\")\n",
    "    count += 1"
   ]
  },
  {
   "cell_type": "code",
   "execution_count": 2,
   "id": "de316aeb",
   "metadata": {},
   "outputs": [],
   "source": [
    "def 행맨():    \n",
    "    \n",
    "    단어리스트 = [\"frau\",\"tisch\",\"zimmer\"]\n",
    "\n",
    "    import random\n",
    "\n",
    "    정답 = random.choice(단어리스트)\n",
    "\n",
    "    빈칸 = list(\"_\"*len(정답))\n",
    "\n",
    "    게임끝 = False\n",
    "    목숨 = 5 \n",
    "    # 게임이 끝날 때 까지 계속\n",
    "    while not 게임끝 :\n",
    "        #남은 목숨 표시 \n",
    "        print(\"남은 목숨 :\", 목숨)\n",
    "        사용자입력문자 = input(\"알파벳을 입력하세요\").lower()\n",
    "\n",
    "\n",
    "        # 같은 문자를 입력했을 때\n",
    "        if 사용자입력문자 in 빈칸: \n",
    "            print(\"!!!이미 입력한 글자!!!\")       \n",
    "\n",
    "\n",
    "        #사용자가 입력한 문자가 1개 이고 문자일 때 실행\n",
    "        if len(사용자입력문자) == 1 and 사용자입력문자.isalpha():\n",
    "            #정답 단어 만큼 실행\n",
    "            for i in range(len(정답)):\n",
    "                if 정답[i] == 사용자입력문자: #정답에 사용자입력문자와 같은게 있으면\n",
    "                    빈칸[i] = 사용자입력문자 #빈칸 리스트에 사용자가 입력한 문자 추가\n",
    "\n",
    "            print(빈칸)    \n",
    "            #언더바 개수가 표현된 리스트 안에서 빈칸 개수 카운트 해서 없으면 \n",
    "            #게임 종료 후 정답 \n",
    "            if \"_\" not in 빈칸:\n",
    "                게임끝 = True\n",
    "                print(\"정답!!!!!\")\n",
    "\n",
    "\n",
    "\n",
    "\n",
    "            #틀렸을 때 목숨 차감 기능 \n",
    "            #목숨이 0 일 때 게임 종료 후 사망\n",
    "            if 사용자입력문자 not in 정답 :\n",
    "                목숨 -= 1\n",
    "                if 목숨 == 0 :\n",
    "                    게임끝 = True\n",
    "                    print(\"사...망...\")\n",
    "            #문자가 여러개 일때 표시\n",
    "        else: \n",
    "            print(\"!!!알파벳 한 개 씩 입 력!!!\")\n",
    "\n",
    "\n"
   ]
  },
  {
   "cell_type": "code",
   "execution_count": null,
   "id": "d4cf700d",
   "metadata": {},
   "outputs": [],
   "source": [
    "from IPython.display import clear_output\n",
    "\n",
    "while True:\n",
    "    id_to_play = input(\"아이디를 입력하세요 : \")\n",
    "    pw_to_play = input(\"비밀번호를 입력하세요: \")\n",
    "    if ID_PW[id_to_play] == pw_to_play:\n",
    "        print(\"행맨게임을 시작합니다\")\n",
    "        행맨()\n",
    "        break\n",
    "    else:\n",
    "        print(\"아이디/비밀번호가 틀렸습니다.\")\n",
    "\n"
   ]
  },
  {
   "cell_type": "markdown",
   "id": "d710bed5",
   "metadata": {},
   "source": [
    "### Namespace : Local vs Global \"Scope\" (범위)"
   ]
  },
  {
   "cell_type": "code",
   "execution_count": 12,
   "id": "c5681cc6",
   "metadata": {},
   "outputs": [
    {
     "name": "stdout",
     "output_type": "stream",
     "text": [
      "적3명과 마주쳤다!\n",
      "적1명과 마주쳤다!\n"
     ]
    }
   ],
   "source": [
    "적 = 1\n",
    "def 적박살():\n",
    "    적 = 3 #local variable. <= 함수 안에서만 존재하는 변수\n",
    "    print(f\"적{적}명과 마주쳤다!\")\n",
    "    \n",
    "적박살()\n",
    "\n",
    "# 적박살()\n",
    "print(f\"적{적}명과 마주쳤다!\")\n"
   ]
  },
  {
   "cell_type": "code",
   "execution_count": null,
   "id": "08d208fe",
   "metadata": {},
   "outputs": [],
   "source": [
    "enemies3 = 123\n",
    "\n",
    "def increase_enemies(): # 사용자정의 함수 안에서 일어나는 일은 바깥세상으로 나갈수가 없다. \n",
    "    #enemies2 = 3 #local variable. <= 함수 안에서만 존재하는 변수\n",
    "    print(f\"적 {enemies3}과 마주쳤다!\")\n",
    "\n",
    "increase_enemies()\n",
    "# print(f\"적 {enemies}과 마주쳤다!\")"
   ]
  },
  {
   "cell_type": "markdown",
   "id": "befe69bc",
   "metadata": {},
   "source": [
    "### Global scope => Global Variable (전역 변수)"
   ]
  },
  {
   "cell_type": "markdown",
   "id": "4cd77ae7",
   "metadata": {},
   "source": [
    "문제 :\n",
    "* 숫자 맞추는 게임 = > 난이도 hard/easy\n",
    "\n",
    "* 숫자는 1~99사이의 정수\n",
    "\n",
    "* 사용자가 숫자를 말하면 UP/DOWN을 말해준다.\n",
    "\n",
    "* 사용자가 숫자를 정확하게 맞추면 승리.\n",
    "\n",
    "* Hardmode = 시도가능횟수 : 5 , hard모드에서 실패하면 자동으로\n",
    "* easy 모드로 재시작.\n",
    "\n",
    "* Easymode = 시도가능횟수 : 10"
   ]
  },
  {
   "cell_type": "code",
   "execution_count": null,
   "id": "faa8b14a",
   "metadata": {},
   "outputs": [
    {
     "name": "stdout",
     "output_type": "stream",
     "text": [
      "!!!정답확인용!!! 74\n",
      "\n",
      "\n",
      "\n",
      "남은 목숨: ♥♥♥♥♥\n"
     ]
    }
   ],
   "source": [
    "def 업다운e() :\n",
    "    \n",
    "    게임끝 = False\n",
    "    목숨 = 10\n",
    "    \n",
    "    print(\"\")\n",
    "    print(\"\")\n",
    "    print(\"\")\n",
    "\n",
    "\n",
    "    while not 게임끝 :\n",
    "\n",
    "        print(\"남은 목숨:\",목숨*\"♥\")\n",
    "\n",
    "        for i in range(목숨):\n",
    "            사용자숫자 = int(input(\"숫자를 입력 :\"))\n",
    "\n",
    "\n",
    "            if 목숨 > 0 and 숫자 != 사용자숫자:\n",
    "\n",
    "                if 사용자숫자 > 숫자 :\n",
    "                    print(\"\")\n",
    "                    print(\"   ▼다운\")\n",
    "                    목숨-=1\n",
    "                    print(\"\")\n",
    "                    print(\"남은 목숨:\",목숨*\"♥\")\n",
    "                if 사용자숫자 < 숫자 :\n",
    "                    print(\"\")\n",
    "                    print(\"   업▲\")\n",
    "                    목숨-=1\n",
    "                    print(\"\")\n",
    "                    print(\"남은 목숨:\",목숨*\"♥\")\n",
    "            else :\n",
    "                break\n",
    "\n",
    "        if 사용자숫자 == 숫자:\n",
    "            print(\"\")\n",
    "            print(\"정답\")\n",
    "            break\n",
    "\n",
    "        if 목숨==0 :\n",
    "            print(\"!!!실패!!!\")\n",
    "            break\n",
    "            \n",
    "            \n",
    "def 업다운h() :\n",
    "\n",
    "\n",
    "    게임끝 = False\n",
    "    목숨 = 5\n",
    "    print(\"!!!정답확인용!!!\",숫자)\n",
    "    print(\"\")\n",
    "    print(\"\")\n",
    "    print(\"\")\n",
    "\n",
    "    while not 게임끝 :\n",
    "\n",
    "        print(\"남은 목숨:\",목숨*\"♥\")\n",
    "\n",
    "        for i in range(목숨):\n",
    "            사용자숫자 = int(input(\"숫자를 입력 :\"))\n",
    "\n",
    "\n",
    "            if 목숨 > 0 and 숫자 != 사용자숫자:\n",
    "\n",
    "                if 사용자숫자 > 숫자 :\n",
    "                    print(\"\")\n",
    "                    print(\"   ▼다운\")\n",
    "                    목숨-=1\n",
    "                    print(\"\")\n",
    "                    print(\"남은 목숨:\",목숨*\"♥\")\n",
    "                if 사용자숫자 < 숫자 :\n",
    "                    print(\"\")\n",
    "                    print(\"   업▲\")\n",
    "                    목숨-=1\n",
    "                    print(\"\")\n",
    "                    print(\"남은 목숨:\",목숨*\"♥\")\n",
    "            else :\n",
    "                break\n",
    "\n",
    "        if 사용자숫자 == 숫자:\n",
    "            print(\"\")\n",
    "            print(\"정답\")\n",
    "            break\n",
    "\n",
    "        if 목숨==0 :\n",
    "            return(\"!!!실패!!!\")\n",
    "            break\n",
    "\n",
    "            \n",
    "import random\n",
    "\n",
    "숫자 = random.randint(0,100)            \n",
    "if 업다운h() == \"!!!실패!!!\":\n",
    "    print(\"\")\n",
    "    print(\"실패!\")\n",
    "    print(\"\")\n",
    "    print(\"\")\n",
    "    print(\"easy 모드 실행\")\n",
    "    print(\"\")\n",
    "    print(\"\")\n",
    "    print(\"\")\n",
    "    업다운e()"
   ]
  },
  {
   "cell_type": "code",
   "execution_count": null,
   "id": "315dc992",
   "metadata": {},
   "outputs": [
    {
     "name": "stdout",
     "output_type": "stream",
     "text": [
      "❺\n"
     ]
    }
   ],
   "source": [
    "############DEBUGGING#####################\n",
    "\n",
    " # Describe Problem\n",
    "def my_function():\n",
    "    for i in range(1, 20):\n",
    "        if i == 20:\n",
    "            print(\"You got it\")\n",
    "my_function()\n",
    "\n",
    " # Reproduce the Bug\n",
    "from random import randint\n",
    "dice_imgs = [\"❶\", \"❷\", \"❸\", \"❹\", \"❺\", \"❻\"]\n",
    "dice_num = randint(1, 6)\n",
    "print(dice_imgs[dice_num])\n",
    "\n",
    " # Play Computer\n",
    "year = int(input(\"What's your year of birth?\"))\n",
    "if year > 1980 and year < 1994:\n",
    "    print(\"You are a millenial.\")\n",
    "elif year > 1994:\n",
    "    print(\"You are a Gen Z.\")\n",
    "\n",
    " # Fix the Errors\n",
    "age = int(input(\"How old are you?\"))\n",
    "if age > 18:\n",
    "    print(\"You can drive at age : \", age)\n",
    "\n",
    "# Print is Your Friend\n",
    "\n",
    "pages = 0\n",
    "word_per_page = 0\n",
    "pages = int(input(\"Number of pages: \"))\n",
    "word_per_page == int(input(\"Number of words per page: \"))\n",
    "total_words = pages * word_per_page\n",
    "print(total_words)\n",
    "\n",
    "#Use a Debugger\n",
    "def mutate(a_list):\n",
    "    b_list = []\n",
    "    for item in a_list:\n",
    "        new_item = item * 2\n",
    "    b_list.append(new_item)\n",
    "    print(b_list)\n",
    "    \n",
    "mutate([1,2,3,5,8,13])"
   ]
  },
  {
   "cell_type": "code",
   "execution_count": 2,
   "id": "744c3f8b",
   "metadata": {},
   "outputs": [
    {
     "name": "stdout",
     "output_type": "stream",
     "text": [
      "You got it\n"
     ]
    }
   ],
   "source": [
    "def my_function():\n",
    "    for i in range(1,21):\n",
    "        if i == 20:\n",
    "            print(\"You got it\")\n",
    "my_function()\n"
   ]
  },
  {
   "cell_type": "code",
   "execution_count": 41,
   "id": "f14a55eb",
   "metadata": {},
   "outputs": [
    {
     "name": "stdout",
     "output_type": "stream",
     "text": [
      "❷\n"
     ]
    }
   ],
   "source": [
    " # Reproduce the Bug\n",
    "from random import randint\n",
    "dice_imgs = [\"❶\", \"❷\", \"❸\", \"❹\", \"❺\", \"❻\"]\n",
    "dice_num = randint(0, 5) #인덱스 0~5\n",
    "print(dice_imgs[dice_num])"
   ]
  },
  {
   "cell_type": "code",
   "execution_count": 45,
   "id": "0854ebf0",
   "metadata": {},
   "outputs": [
    {
     "name": "stdout",
     "output_type": "stream",
     "text": [
      "What's your year of birth?1994\n",
      "You are a millenial.\n"
     ]
    }
   ],
   "source": [
    "# Play Computer\n",
    "year = int(input(\"What's your year of birth?\"))\n",
    "if year > 1980 and year < 1994:\n",
    "    print(\"You are a millenial.\")\n",
    "elif year > 1994:\n",
    "    print(\"You are a Gen Z.\")"
   ]
  },
  {
   "cell_type": "code",
   "execution_count": 48,
   "id": "b27e9301",
   "metadata": {},
   "outputs": [
    {
     "name": "stdout",
     "output_type": "stream",
     "text": [
      "How old are you?20\n",
      "You can drive at age :  20\n"
     ]
    }
   ],
   "source": [
    " # Fix the Errors\n",
    "age = int(input(\"How old are you?\"))\n",
    "if age > 18:\n",
    "    print(\"You can drive at age : \", age)"
   ]
  },
  {
   "cell_type": "code",
   "execution_count": 51,
   "id": "873fd487",
   "metadata": {
    "scrolled": true
   },
   "outputs": [
    {
     "name": "stdout",
     "output_type": "stream",
     "text": [
      "Number of pages: 6\n",
      "Number of words per page: 6\n",
      "36\n"
     ]
    }
   ],
   "source": [
    "# Print is Your Friend\n",
    "\n",
    "pages = 0\n",
    "word_per_page = 0\n",
    "pages = int(input(\"Number of pages: \"))\n",
    "word_per_page = int(input(\"Number of words per page: \"))\n",
    "total_words = pages * word_per_page\n",
    "print(total_words)"
   ]
  },
  {
   "cell_type": "code",
   "execution_count": 55,
   "id": "aea48fec",
   "metadata": {
    "scrolled": true
   },
   "outputs": [
    {
     "name": "stdout",
     "output_type": "stream",
     "text": [
      "[2, 4, 6, 10, 16, 26]\n"
     ]
    }
   ],
   "source": [
    "#Use a Debugger\n",
    "def mutate(a_list):\n",
    "    b_list = []\n",
    "    for item in a_list:\n",
    "        new_item = item * 2\n",
    "        b_list.append(new_item)\n",
    "    print(b_list)\n",
    "    \n",
    "mutate([1,2,3,5,8,13])"
   ]
  },
  {
   "cell_type": "markdown",
   "id": "e303ae08",
   "metadata": {},
   "source": [
    "## Debugging Tip #2 <= 완전 중요!\n",
    "* 휴식을 취한다.\n",
    "* 친구를 사귄다.\n",
    "* RUN often- 실행을 자주해라.\n",
    "* StackOverflow"
   ]
  },
  {
   "cell_type": "code",
   "execution_count": 3,
   "id": "964f47e9",
   "metadata": {},
   "outputs": [
    {
     "name": "stdout",
     "output_type": "stream",
     "text": [
      "Which number do you want to check?16\n",
      "This is an even number.\n"
     ]
    }
   ],
   "source": [
    "# 홀수짝수\n",
    "number = int(input(\"Which number do you want to check?\"))\n",
    "\n",
    "if number % 2 == 0:\n",
    "    print(\"This is an even number.\")\n",
    "else:\n",
    "    print(\"This is an odd number.\")\n",
    "  "
   ]
  },
  {
   "cell_type": "code",
   "execution_count": 3,
   "id": "b2220d76",
   "metadata": {},
   "outputs": [
    {
     "name": "stdout",
     "output_type": "stream",
     "text": [
      "Which year do you want to check?1900\n",
      "Not leap year.\n"
     ]
    }
   ],
   "source": [
    "# 윤년계산기\n",
    "year = int(input(\"Which year do you want to check?\"))\n",
    "\n",
    "if year % 4 == 0:\n",
    "    if year % 100 == 0:\n",
    "        if year % 400 == 0:\n",
    "            print(\"Leap year.\")\n",
    "        else:\n",
    "            print(\"Not leap year.\")\n",
    "    else:\n",
    "        print(\"Leap year.\")\n",
    "else:\n",
    "    print(\"Not leap year.\")\n",
    "    "
   ]
  },
  {
   "cell_type": "code",
   "execution_count": 7,
   "id": "35507059",
   "metadata": {},
   "outputs": [
    {
     "name": "stdout",
     "output_type": "stream",
     "text": [
      "1\n",
      "2\n",
      "Fizz\n",
      "4\n",
      "Buzz\n",
      "Fizz\n",
      "7\n",
      "8\n",
      "Fizz\n",
      "Buzz\n",
      "11\n",
      "Fizz\n",
      "13\n",
      "14\n",
      "FizzBuzz\n",
      "16\n",
      "17\n",
      "Fizz\n",
      "19\n",
      "Buzz\n",
      "Fizz\n",
      "22\n",
      "23\n",
      "Fizz\n",
      "Buzz\n",
      "26\n",
      "Fizz\n",
      "28\n",
      "29\n",
      "FizzBuzz\n",
      "31\n",
      "32\n",
      "Fizz\n",
      "34\n",
      "Buzz\n",
      "Fizz\n",
      "37\n",
      "38\n",
      "Fizz\n",
      "Buzz\n",
      "41\n",
      "Fizz\n",
      "43\n",
      "44\n",
      "FizzBuzz\n",
      "46\n",
      "47\n",
      "Fizz\n",
      "49\n",
      "Buzz\n",
      "Fizz\n",
      "52\n",
      "53\n",
      "Fizz\n",
      "Buzz\n",
      "56\n",
      "Fizz\n",
      "58\n",
      "59\n",
      "FizzBuzz\n",
      "61\n",
      "62\n",
      "Fizz\n",
      "64\n",
      "Buzz\n",
      "Fizz\n",
      "67\n",
      "68\n",
      "Fizz\n",
      "Buzz\n",
      "71\n",
      "Fizz\n",
      "73\n",
      "74\n",
      "FizzBuzz\n",
      "76\n",
      "77\n",
      "Fizz\n",
      "79\n",
      "Buzz\n",
      "Fizz\n",
      "82\n",
      "83\n",
      "Fizz\n",
      "Buzz\n",
      "86\n",
      "Fizz\n",
      "88\n",
      "89\n",
      "FizzBuzz\n",
      "91\n",
      "92\n",
      "Fizz\n",
      "94\n",
      "Buzz\n",
      "Fizz\n",
      "97\n",
      "98\n",
      "Fizz\n",
      "Buzz\n"
     ]
    }
   ],
   "source": [
    "#FizzBuzz\n",
    "for number in range(1, 101):\n",
    "    if number % 3 == 0 and number % 5 == 0:\n",
    "        print(\"FizzBuzz\")\n",
    "    elif number % 3 == 0:\n",
    "        print(\"Fizz\")\n",
    "    elif number % 5 == 0:\n",
    "        print(\"Buzz\")\n",
    "    else:\n",
    "        print(number)\n",
    "    "
   ]
  },
  {
   "cell_type": "code",
   "execution_count": null,
   "id": "5244fb35",
   "metadata": {},
   "outputs": [],
   "source": []
  }
 ],
 "metadata": {
  "kernelspec": {
   "display_name": "Python 3 (ipykernel)",
   "language": "python",
   "name": "python3"
  },
  "language_info": {
   "codemirror_mode": {
    "name": "ipython",
    "version": 3
   },
   "file_extension": ".py",
   "mimetype": "text/x-python",
   "name": "python",
   "nbconvert_exporter": "python",
   "pygments_lexer": "ipython3",
   "version": "3.8.3"
  }
 },
 "nbformat": 4,
 "nbformat_minor": 5
}
