{
 "cells": [
  {
   "cell_type": "markdown",
   "id": "2deb02dc",
   "metadata": {},
   "source": [
    "# 사용자 정의 함수와 모듈.\n",
    "    \n",
    "   사용자 정의함수 만들기\n"
   ]
  },
  {
   "cell_type": "code",
   "execution_count": null,
   "id": "aa268df8",
   "metadata": {},
   "outputs": [],
   "source": [
    "print(\"출력값\",end)"
   ]
  },
  {
   "cell_type": "code",
   "execution_count": 13,
   "id": "67c22da9",
   "metadata": {},
   "outputs": [
    {
     "name": "stdout",
     "output_type": "stream",
     "text": [
      "출력값출력값출력값"
     ]
    }
   ],
   "source": [
    "print(\"출력값\", end=\"\")\n",
    "print(\"출력값\", end=\"\")\n",
    "print(\"출력값\", end=\"\")"
   ]
  },
  {
   "cell_type": "code",
   "execution_count": null,
   "id": "3d1803e5",
   "metadata": {},
   "outputs": [],
   "source": [
    "def 함수이름1(x,y):\n",
    "    "
   ]
  },
  {
   "cell_type": "code",
   "execution_count": 2,
   "id": "3190e975",
   "metadata": {},
   "outputs": [
    {
     "name": "stdout",
     "output_type": "stream",
     "text": [
      "수를입력4\n",
      "수를입력4\n",
      "수를입력4\n",
      "수를입력4\n"
     ]
    },
    {
     "data": {
      "text/plain": [
       "'입력하신 숫자의 합은 16 입니다.'"
      ]
     },
     "execution_count": 2,
     "metadata": {},
     "output_type": "execute_result"
    }
   ],
   "source": [
    "def 함수이름(*x):# *인수를 가변형으로 바꿀 수 있다.\n",
    "    hap = 0\n",
    "    for i in x : #가변형으로 가져온 인수는 리스트 취급.\n",
    "        hap += i\n",
    "    return('입력하신 숫자의 합은 %s 입니다.' %hap)\n",
    "\n",
    "n1 = int(input(\"수를입력\"))\n",
    "n2 = int(input(\"수를입력\")) \n",
    "n3 = int(input(\"수를입력\"))\n",
    "n4 = int(input(\"수를입력\"))\n",
    "함수이름(n1,n2,n3,n4)"
   ]
  },
  {
   "cell_type": "markdown",
   "id": "f3c0c7c9",
   "metadata": {},
   "source": [
    "    1.두 숫자를 입력 받아서 큰 수에서 작은 수를 뺀 결과를 출력하는 함수를 만들어라\n",
    "    2.여러 개의 숫자를 입력 받아서 가장 큰 값을 출력하는 함수를 만들어라\n",
    "    3.임의의 갯수의 숫자를 입력 받아서 총 합을 출력하는 함수를 만들어라\n",
    "    4.가장 큰 값에서 가장 작은 값을 뺀 결과를 출력하는 함수를 만들어라"
   ]
  },
  {
   "cell_type": "code",
   "execution_count": 6,
   "id": "733a2262",
   "metadata": {},
   "outputs": [
    {
     "name": "stdout",
     "output_type": "stream",
     "text": [
      "수를 입력4\n",
      "수를 입력8\n",
      "두 수의 차이는 4 입니다.\n"
     ]
    }
   ],
   "source": [
    "def 두숫자(nummer1,nummer2):\n",
    "    if nummer1 >= nummer2 :\n",
    "        return(nummer1 - nummer2)\n",
    "    else :\n",
    "        return(nummer2 - nummer1)\n",
    "    \n",
    "\n",
    "        \n",
    "num1 = int(input(\"수를 입력\"))\n",
    "num2 = int(input(\"수를 입력\"))\n",
    "\n",
    "두수의차이 = 두숫자(num1,num2) \n",
    "print(\"두 수의 차이는 %s 입니다.\"%(두수의차이))\n",
    "\n",
    "    "
   ]
  },
  {
   "cell_type": "code",
   "execution_count": 11,
   "id": "db542ece",
   "metadata": {},
   "outputs": [
    {
     "name": "stdout",
     "output_type": "stream",
     "text": [
      "19\n"
     ]
    }
   ],
   "source": [
    "#1. 임의의 갯수의 숫자를 입력 받아서 가장 큰 값을 출력하는 함수를 만들어라\n",
    "def 가장큰(*x):\n",
    "    max = x[0]\n",
    "    \n",
    "    for i in x:\n",
    "        if max < i:\n",
    "            max = i\n",
    "    print(max)\n",
    "    \n",
    "가장큰(12,16,18,19,15,12,16,8,5,1)"
   ]
  },
  {
   "cell_type": "code",
   "execution_count": 21,
   "id": "66ecbfc0",
   "metadata": {},
   "outputs": [
    {
     "name": "stdout",
     "output_type": "stream",
     "text": [
      "11209386\n"
     ]
    }
   ],
   "source": [
    "#가장 큰 값에서 가장 작은 값을 뺀 결과를 출력하는 함수를 만들어라\n",
    "x = [2,3,45,6,2,4,12,123123, 11209388]\n",
    "def 큰_작(*x):\n",
    "    #가장 큰 값\n",
    "    max = x[0]\n",
    "\n",
    "    for i in x:\n",
    "        if max < i:\n",
    "            max = i\n",
    "\n",
    "\n",
    "    min = x[0]\n",
    "\n",
    "    for i in x:\n",
    "        if min > i:\n",
    "            min = i\n",
    "            \n",
    "    print (max- min)\n",
    "\n",
    "큰_작(2,3,45,6,2,4,12,123123, 11209388)"
   ]
  },
  {
   "cell_type": "markdown",
   "id": "d58621e2",
   "metadata": {},
   "source": [
    "설치 :\n",
    "pip install 모듈이름\n",
    "아나콘다 : conda intall 모듈이름\n",
    "구글 드라이브 : !pip install 모듈이름\n",
    "\n",
    "불러오기 import.\n",
    "\n",
    ".py 로 저장해서 \n",
    "\n",
    "#원하는 경로를\n",
    "\n",
    "\n",
    "atplotlib.pyplot.show()\n",
    "\n",
    "\n",
    "import  경기도.시흥시 as 시흥\n",
    "\n"
   ]
  },
  {
   "cell_type": "code",
   "execution_count": 24,
   "id": "49caaebf",
   "metadata": {},
   "outputs": [
    {
     "ename": "SyntaxError",
     "evalue": "invalid syntax (Temp/ipykernel_10680/1543816385.py, line 1)",
     "output_type": "error",
     "traceback": [
      "\u001b[1;36m  File \u001b[1;32m\"C:\\Users\\ADMINI~1\\AppData\\Local\\Temp/ipykernel_10680/1543816385.py\"\u001b[1;36m, line \u001b[1;32m1\u001b[0m\n\u001b[1;33m    from import matplotlib.pyplot as plt\u001b[0m\n\u001b[1;37m         ^\u001b[0m\n\u001b[1;31mSyntaxError\u001b[0m\u001b[1;31m:\u001b[0m invalid syntax\n"
     ]
    }
   ],
   "source": [
    "from import matplotlib.pyplot as plt\n",
    "\n",
    "import matplotlib"
   ]
  },
  {
   "cell_type": "markdown",
   "id": "af82b7fa",
   "metadata": {},
   "source": [
    "import os\n",
    "\n",
    "#getcwd() / chdir()\n",
    "#getcwd() : get (가져오다) current (현재) working(작업하고있는) (디렉토리)\n",
    "\n",
    " chdir (): change directory : 작업디렉토리 변경\n",
    "os.chdir('C:\\py.temp')\n",
    "print(\"변경후 디렉토리\", os get"
   ]
  },
  {
   "cell_type": "code",
   "execution_count": 46,
   "id": "85d521f9",
   "metadata": {},
   "outputs": [
    {
     "ename": "NameError",
     "evalue": "name 'getcwd' is not defined",
     "output_type": "error",
     "traceback": [
      "\u001b[1;31m---------------------------------------------------------------------------\u001b[0m",
      "\u001b[1;31mNameError\u001b[0m                                 Traceback (most recent call last)",
      "\u001b[1;32mC:\\Users\\ADMINI~1\\AppData\\Local\\Temp/ipykernel_10680/125112128.py\u001b[0m in \u001b[0;36m<module>\u001b[1;34m\u001b[0m\n\u001b[0;32m      1\u001b[0m \u001b[1;32mimport\u001b[0m \u001b[0mos\u001b[0m\u001b[1;33m\u001b[0m\u001b[1;33m\u001b[0m\u001b[0m\n\u001b[0;32m      2\u001b[0m \u001b[1;33m\u001b[0m\u001b[0m\n\u001b[1;32m----> 3\u001b[1;33m \u001b[0mgetcwd\u001b[0m\u001b[1;33m(\u001b[0m\u001b[1;33m)\u001b[0m\u001b[1;33m\u001b[0m\u001b[1;33m\u001b[0m\u001b[0m\n\u001b[0m\u001b[0;32m      4\u001b[0m \u001b[0mprint\u001b[0m\u001b[1;33m(\u001b[0m\u001b[1;34m\"현재작업중\"\u001b[0m\u001b[1;33m)\u001b[0m\u001b[1;33m\u001b[0m\u001b[1;33m\u001b[0m\u001b[0m\n\u001b[0;32m      5\u001b[0m \u001b[0mos\u001b[0m\u001b[1;33m.\u001b[0m\u001b[0mchdir\u001b[0m\u001b[1;33m(\u001b[0m\u001b[1;34m'C:\\py.temp'\u001b[0m\u001b[1;33m)\u001b[0m\u001b[1;33m\u001b[0m\u001b[1;33m\u001b[0m\u001b[0m\n",
      "\u001b[1;31mNameError\u001b[0m: name 'getcwd' is not defined"
     ]
    }
   ],
   "source": [
    "import os\n",
    "\n",
    "getcwd()\n",
    "print(\"현재작업중\")\n",
    "os.chdir('C:\\py.temp')\n",
    "print(\"변경후 디렉토리\", os.getcwd())\n"
   ]
  },
  {
   "cell_type": "code",
   "execution_count": 67,
   "id": "9d7e643f",
   "metadata": {},
   "outputs": [],
   "source": [
    "# mkdir / makedirs\n",
    "os.mkdir(\"C:\\\\py.temp\\\\temp_b\")\n",
    "os.makedirs(\"C:\\\\py.temp\\\\temp_a\\\\temp_1\\\\송인혁\")"
   ]
  },
  {
   "cell_type": "code",
   "execution_count": 68,
   "id": "9ce3d666",
   "metadata": {},
   "outputs": [],
   "source": [
    "#rmdir() $ removedirs \n",
    "\n",
    "os.rmdir(\"C:\\\\py.temp\\\\temp\")\n",
    "os.removedirs(\"C:\\\\py.temp\\\\temp_a\\\\temp_1\\\\송인혁\") #영원히 삭제\n"
   ]
  },
  {
   "cell_type": "markdown",
   "id": "51cbe273",
   "metadata": {},
   "source": [
    "## txt 파일 관리하기\n",
    "다음 3단계를 기억하자.\n",
    "1. open\n",
    "2. write\n",
    "3. close\n",
    "\n",
    "1.open할 때 open 옵션 중요\n",
    "\n",
    "\n",
    "w : write =>(over)write = 덮어쓰기 => 기존내용 삭제. 새내용 저장\n",
    "\n",
    "a : append => 추가(덧붙임) = 기존내용 + 새내용\n"
   ]
  },
  {
   "cell_type": "code",
   "execution_count": 29,
   "id": "f0157005",
   "metadata": {},
   "outputs": [],
   "source": [
    "import os\n",
    "f = open(\"test1.txt\",\"w\")\n",
    "f.write(\"텍스트 파일에 두 번째로 쓰는 글\")\n",
    "f.close()"
   ]
  },
  {
   "cell_type": "code",
   "execution_count": 30,
   "id": "bf2c239d",
   "metadata": {},
   "outputs": [
    {
     "data": {
      "text/plain": [
       "'텍스트 파일에 두 번째로 쓰는 글'"
      ]
     },
     "execution_count": 30,
     "metadata": {},
     "output_type": "execute_result"
    }
   ],
   "source": [
    "#txt \n",
    "\n",
    "import os\n",
    "f= open(\"C:\\\\Users\\\\Administrator\\Desktop\\py.temp\\\\test1.txt\",\"r\")\n",
    "f.readline()"
   ]
  },
  {
   "cell_type": "code",
   "execution_count": 10,
   "id": "a1ce419b",
   "metadata": {},
   "outputs": [
    {
     "name": "stdout",
     "output_type": "stream",
     "text": [
      "[1, 2, 3]\n",
      "['수학', '과학', '빅데이터']\n",
      "   과목번호   과목명\n",
      "0     1    수학\n",
      "1     2    과학\n",
      "2     3  빅데이터\n"
     ]
    }
   ],
   "source": [
    "# readline은 데이터를 리스트 형태로 불러온다\n",
    "# 리스트를 변수에 저장해 줌으로써 리스트로 활용가능\n",
    "import os\n",
    "f = open(\"C:\\\\Users\\\\Administrator\\Desktop\\py.temp\\\\test1.txt\",\"r\")\n",
    "f_list = f.readlines() #lines하면 여러줄\n",
    "no = []\n",
    "subjeck_name = []\n",
    "no.extend([1,2,3])\n",
    "subjeck_name.extend([\"수학\", \"과학\",\"빅데이터\"])\n",
    "import pandas as pd\n",
    "print(no)\n",
    "print(subjeck_name)\n",
    "\n",
    "\n",
    "subject = pd.DataFrame() # subject라는 이름의 dataframe(표)를 만들어 준다\n",
    "subject[\"과목번호\"] = no #subject라는 데이터프레임에 \"과목번호\"라는 이름을 가진 no 리스트를 넣어준다\n",
    "subject[\"과목명\"] = subjeck_name\n",
    "print(subject)"
   ]
  },
  {
   "cell_type": "code",
   "execution_count": 61,
   "id": "fb230d5e",
   "metadata": {},
   "outputs": [
    {
     "ename": "SyntaxError",
     "evalue": "(unicode error) 'unicodeescape' codec can't decode bytes in position 2-3: truncated \\UXXXXXXXX escape (Temp/ipykernel_7424/2863689149.py, line 2)",
     "output_type": "error",
     "traceback": [
      "\u001b[1;36m  File \u001b[1;32m\"C:\\Users\\ADMINI~1\\AppData\\Local\\Temp/ipykernel_7424/2863689149.py\"\u001b[1;36m, line \u001b[1;32m2\u001b[0m\n\u001b[1;33m    subject.to_csv(\"C:\\Users\\Administrator\\Desktop\\pytemp\\\\test1.txt.csv\")\u001b[0m\n\u001b[1;37m                   ^\u001b[0m\n\u001b[1;31mSyntaxError\u001b[0m\u001b[1;31m:\u001b[0m (unicode error) 'unicodeescape' codec can't decode bytes in position 2-3: truncated \\UXXXXXXXX escape\n"
     ]
    }
   ],
   "source": [
    "#csv로 저장하기\n",
    "subject.to_csv(\"C:\\Users\\Administrator\\Desktop\\pytemp\\\\test1.txt.csv\")\n",
    "\n",
    "#xls로 저장하기\n",
    "subject.to_excel(경로)\n",
    "\n",
    "#xlsx로 저장하기\n",
    "subjeckt.to_excel(경로)"
   ]
  },
  {
   "cell_type": "code",
   "execution_count": 67,
   "id": "2c1ace09",
   "metadata": {},
   "outputs": [
    {
     "ename": "FileNotFoundError",
     "evalue": "[Errno 2] No such file or directory: 'test_xlsx.xlsx'",
     "output_type": "error",
     "traceback": [
      "\u001b[1;31m---------------------------------------------------------------------------\u001b[0m",
      "\u001b[1;31mFileNotFoundError\u001b[0m                         Traceback (most recent call last)",
      "\u001b[1;32mC:\\Users\\ADMINI~1\\AppData\\Local\\Temp/ipykernel_7424/3925386825.py\u001b[0m in \u001b[0;36m<module>\u001b[1;34m\u001b[0m\n\u001b[1;32m----> 1\u001b[1;33m \u001b[0mdata\u001b[0m \u001b[1;33m=\u001b[0m \u001b[0mpd\u001b[0m\u001b[1;33m.\u001b[0m\u001b[0mread_excel\u001b[0m\u001b[1;33m(\u001b[0m\u001b[1;34m\"test_xlsx.xlsx\"\u001b[0m\u001b[1;33m,\u001b[0m \u001b[0msheet_name\u001b[0m\u001b[1;33m=\u001b[0m\u001b[1;34m\"sheet2\"\u001b[0m\u001b[1;33m)\u001b[0m\u001b[1;33m\u001b[0m\u001b[1;33m\u001b[0m\u001b[0m\n\u001b[0m",
      "\u001b[1;32mc:\\program files\\python38\\lib\\site-packages\\pandas\\util\\_decorators.py\u001b[0m in \u001b[0;36mwrapper\u001b[1;34m(*args, **kwargs)\u001b[0m\n\u001b[0;32m    309\u001b[0m                     \u001b[0mstacklevel\u001b[0m\u001b[1;33m=\u001b[0m\u001b[0mstacklevel\u001b[0m\u001b[1;33m,\u001b[0m\u001b[1;33m\u001b[0m\u001b[1;33m\u001b[0m\u001b[0m\n\u001b[0;32m    310\u001b[0m                 )\n\u001b[1;32m--> 311\u001b[1;33m             \u001b[1;32mreturn\u001b[0m \u001b[0mfunc\u001b[0m\u001b[1;33m(\u001b[0m\u001b[1;33m*\u001b[0m\u001b[0margs\u001b[0m\u001b[1;33m,\u001b[0m \u001b[1;33m**\u001b[0m\u001b[0mkwargs\u001b[0m\u001b[1;33m)\u001b[0m\u001b[1;33m\u001b[0m\u001b[1;33m\u001b[0m\u001b[0m\n\u001b[0m\u001b[0;32m    312\u001b[0m \u001b[1;33m\u001b[0m\u001b[0m\n\u001b[0;32m    313\u001b[0m         \u001b[1;32mreturn\u001b[0m \u001b[0mwrapper\u001b[0m\u001b[1;33m\u001b[0m\u001b[1;33m\u001b[0m\u001b[0m\n",
      "\u001b[1;32mc:\\program files\\python38\\lib\\site-packages\\pandas\\io\\excel\\_base.py\u001b[0m in \u001b[0;36mread_excel\u001b[1;34m(io, sheet_name, header, names, index_col, usecols, squeeze, dtype, engine, converters, true_values, false_values, skiprows, nrows, na_values, keep_default_na, na_filter, verbose, parse_dates, date_parser, thousands, comment, skipfooter, convert_float, mangle_dupe_cols, storage_options)\u001b[0m\n\u001b[0;32m    362\u001b[0m     \u001b[1;32mif\u001b[0m \u001b[1;32mnot\u001b[0m \u001b[0misinstance\u001b[0m\u001b[1;33m(\u001b[0m\u001b[0mio\u001b[0m\u001b[1;33m,\u001b[0m \u001b[0mExcelFile\u001b[0m\u001b[1;33m)\u001b[0m\u001b[1;33m:\u001b[0m\u001b[1;33m\u001b[0m\u001b[1;33m\u001b[0m\u001b[0m\n\u001b[0;32m    363\u001b[0m         \u001b[0mshould_close\u001b[0m \u001b[1;33m=\u001b[0m \u001b[1;32mTrue\u001b[0m\u001b[1;33m\u001b[0m\u001b[1;33m\u001b[0m\u001b[0m\n\u001b[1;32m--> 364\u001b[1;33m         \u001b[0mio\u001b[0m \u001b[1;33m=\u001b[0m \u001b[0mExcelFile\u001b[0m\u001b[1;33m(\u001b[0m\u001b[0mio\u001b[0m\u001b[1;33m,\u001b[0m \u001b[0mstorage_options\u001b[0m\u001b[1;33m=\u001b[0m\u001b[0mstorage_options\u001b[0m\u001b[1;33m,\u001b[0m \u001b[0mengine\u001b[0m\u001b[1;33m=\u001b[0m\u001b[0mengine\u001b[0m\u001b[1;33m)\u001b[0m\u001b[1;33m\u001b[0m\u001b[1;33m\u001b[0m\u001b[0m\n\u001b[0m\u001b[0;32m    365\u001b[0m     \u001b[1;32melif\u001b[0m \u001b[0mengine\u001b[0m \u001b[1;32mand\u001b[0m \u001b[0mengine\u001b[0m \u001b[1;33m!=\u001b[0m \u001b[0mio\u001b[0m\u001b[1;33m.\u001b[0m\u001b[0mengine\u001b[0m\u001b[1;33m:\u001b[0m\u001b[1;33m\u001b[0m\u001b[1;33m\u001b[0m\u001b[0m\n\u001b[0;32m    366\u001b[0m         raise ValueError(\n",
      "\u001b[1;32mc:\\program files\\python38\\lib\\site-packages\\pandas\\io\\excel\\_base.py\u001b[0m in \u001b[0;36m__init__\u001b[1;34m(self, path_or_buffer, engine, storage_options)\u001b[0m\n\u001b[0;32m   1189\u001b[0m                 \u001b[0mext\u001b[0m \u001b[1;33m=\u001b[0m \u001b[1;34m\"xls\"\u001b[0m\u001b[1;33m\u001b[0m\u001b[1;33m\u001b[0m\u001b[0m\n\u001b[0;32m   1190\u001b[0m             \u001b[1;32melse\u001b[0m\u001b[1;33m:\u001b[0m\u001b[1;33m\u001b[0m\u001b[1;33m\u001b[0m\u001b[0m\n\u001b[1;32m-> 1191\u001b[1;33m                 ext = inspect_excel_format(\n\u001b[0m\u001b[0;32m   1192\u001b[0m                     \u001b[0mcontent_or_path\u001b[0m\u001b[1;33m=\u001b[0m\u001b[0mpath_or_buffer\u001b[0m\u001b[1;33m,\u001b[0m \u001b[0mstorage_options\u001b[0m\u001b[1;33m=\u001b[0m\u001b[0mstorage_options\u001b[0m\u001b[1;33m\u001b[0m\u001b[1;33m\u001b[0m\u001b[0m\n\u001b[0;32m   1193\u001b[0m                 )\n",
      "\u001b[1;32mc:\\program files\\python38\\lib\\site-packages\\pandas\\io\\excel\\_base.py\u001b[0m in \u001b[0;36minspect_excel_format\u001b[1;34m(content_or_path, storage_options)\u001b[0m\n\u001b[0;32m   1068\u001b[0m         \u001b[0mcontent_or_path\u001b[0m \u001b[1;33m=\u001b[0m \u001b[0mBytesIO\u001b[0m\u001b[1;33m(\u001b[0m\u001b[0mcontent_or_path\u001b[0m\u001b[1;33m)\u001b[0m\u001b[1;33m\u001b[0m\u001b[1;33m\u001b[0m\u001b[0m\n\u001b[0;32m   1069\u001b[0m \u001b[1;33m\u001b[0m\u001b[0m\n\u001b[1;32m-> 1070\u001b[1;33m     with get_handle(\n\u001b[0m\u001b[0;32m   1071\u001b[0m         \u001b[0mcontent_or_path\u001b[0m\u001b[1;33m,\u001b[0m \u001b[1;34m\"rb\"\u001b[0m\u001b[1;33m,\u001b[0m \u001b[0mstorage_options\u001b[0m\u001b[1;33m=\u001b[0m\u001b[0mstorage_options\u001b[0m\u001b[1;33m,\u001b[0m \u001b[0mis_text\u001b[0m\u001b[1;33m=\u001b[0m\u001b[1;32mFalse\u001b[0m\u001b[1;33m\u001b[0m\u001b[1;33m\u001b[0m\u001b[0m\n\u001b[0;32m   1072\u001b[0m     ) as handle:\n",
      "\u001b[1;32mc:\\program files\\python38\\lib\\site-packages\\pandas\\io\\common.py\u001b[0m in \u001b[0;36mget_handle\u001b[1;34m(path_or_buf, mode, encoding, compression, memory_map, is_text, errors, storage_options)\u001b[0m\n\u001b[0;32m    709\u001b[0m         \u001b[1;32melse\u001b[0m\u001b[1;33m:\u001b[0m\u001b[1;33m\u001b[0m\u001b[1;33m\u001b[0m\u001b[0m\n\u001b[0;32m    710\u001b[0m             \u001b[1;31m# Binary mode\u001b[0m\u001b[1;33m\u001b[0m\u001b[1;33m\u001b[0m\u001b[1;33m\u001b[0m\u001b[0m\n\u001b[1;32m--> 711\u001b[1;33m             \u001b[0mhandle\u001b[0m \u001b[1;33m=\u001b[0m \u001b[0mopen\u001b[0m\u001b[1;33m(\u001b[0m\u001b[0mhandle\u001b[0m\u001b[1;33m,\u001b[0m \u001b[0mioargs\u001b[0m\u001b[1;33m.\u001b[0m\u001b[0mmode\u001b[0m\u001b[1;33m)\u001b[0m\u001b[1;33m\u001b[0m\u001b[1;33m\u001b[0m\u001b[0m\n\u001b[0m\u001b[0;32m    712\u001b[0m         \u001b[0mhandles\u001b[0m\u001b[1;33m.\u001b[0m\u001b[0mappend\u001b[0m\u001b[1;33m(\u001b[0m\u001b[0mhandle\u001b[0m\u001b[1;33m)\u001b[0m\u001b[1;33m\u001b[0m\u001b[1;33m\u001b[0m\u001b[0m\n\u001b[0;32m    713\u001b[0m \u001b[1;33m\u001b[0m\u001b[0m\n",
      "\u001b[1;31mFileNotFoundError\u001b[0m: [Errno 2] No such file or directory: 'test_xlsx.xlsx'"
     ]
    }
   ],
   "source": [
    "data = pd.read_excel(\"test_xlsx.xlsx\", sheet_name=\"sheet2\")"
   ]
  },
  {
   "cell_type": "markdown",
   "id": "cdee7680",
   "metadata": {},
   "source": [
    "### while 반복문"
   ]
  },
  {
   "cell_type": "markdown",
   "id": "db6a3d88",
   "metadata": {},
   "source": [
    "while 조건:\n",
    "    \n",
    "    -실행할 문장 1\n",
    "    \n",
    "    -실행할 문장 2\n",
    "    \n",
    "    -반복 조건을 중단하는 문장\n",
    "    * loop이 끝날수 있도록 반복 조건을 끝내주는 terminator가 필요하다.반드시 exit 조건을 채울 수 있도록 코드를 짜 준다.\n",
    "    "
   ]
  },
  {
   "cell_type": "code",
   "execution_count": 2,
   "id": "5abc4544",
   "metadata": {},
   "outputs": [
    {
     "name": "stdout",
     "output_type": "stream",
     "text": [
      "2\n",
      "4\n",
      "6\n",
      "8\n",
      "10\n"
     ]
    }
   ],
   "source": [
    "no1 = 2 \n",
    "while no1 < 11:\n",
    "    print(no1)\n",
    "    no1 +=2"
   ]
  },
  {
   "cell_type": "markdown",
   "id": "08af674b",
   "metadata": {},
   "source": [
    "숫자를 입력받아서 구구단 출력하는 코드를 작성하시오"
   ]
  },
  {
   "cell_type": "code",
   "execution_count": 18,
   "id": "6aed74b8",
   "metadata": {},
   "outputs": [
    {
     "name": "stdout",
     "output_type": "stream",
     "text": [
      "숫자를 입력하세요2\n",
      "해당 수 의 배수는 : \n",
      "2 x 1 = 2\n",
      "2 x 2 = 4\n",
      "2 x 3 = 6\n",
      "2 x 4 = 8\n",
      "2 x 5 = 10\n",
      "2 x 6 = 12\n",
      "2 x 7 = 14\n",
      "2 x 8 = 16\n",
      "2 x 9 = 18\n"
     ]
    }
   ],
   "source": [
    "nummer = int(input(\"숫자를 입력하세요\"))\n",
    "no = 1\n",
    "print(\"해당 수 의 배수는 : \")\n",
    "while no < 10 :\n",
    "    print( nummer,\"x\",no,\"=\",nummer*no)\n",
    "    no+=1"
   ]
  },
  {
   "cell_type": "code",
   "execution_count": null,
   "id": "cb1c2c29",
   "metadata": {},
   "outputs": [],
   "source": [
    "#break &&& countinue &&&pass\n",
    "# break : 반복문을 깨버린다.\n",
    "snack = ['새우깡', '감자깡', '고구마깡','맛동산']\n",
    "\n",
    "for i in snack :\n",
    "    if i == '맛동산':\n",
    "        break\n",
    "    \n",
    "    \n",
    "    print(i, \"참 맛있다\")\n",
    "    "
   ]
  },
  {
   "attachments": {
    "%EB%8B%A4%EC%9A%B4%EB%A1%9C%EB%93%9C.png": {
     "image/png": "[encoded data removed]"
    }
   },
   "cell_type": "markdown",
   "id": "b8a2074f",
   "metadata": {},
   "source": [
    "![%EB%8B%A4%EC%9A%B4%EB%A1%9C%EB%93%9C.png](attachment:%EB%8B%A4%EC%9A%B4%EB%A1%9C%EB%93%9C.png)"
   ]
  },
  {
   "cell_type": "code",
   "execution_count": null,
   "id": "7d02d7b7",
   "metadata": {},
   "outputs": [],
   "source": [
    "메뉴리스트 = [1.짜장면 - 5,000원, 2.짬뽕 -6,000원, 3.군만두 - 8,000원,4.탕수육 - 10,000원]\n",
    "짜장면 = 5000\n",
    "짬뽕 = 6000\n",
    "군만두 = 8000\n",
    "탕수육 = 10000\n",
    "print(\"1.짜장면 - 5,000원   2.짬뽕 -6,000원\")\n",
    "print(\"3.군만두 - 8,000원   4.탕수육 - 10,000원\")\n",
    "메뉴번호 = input(\"1. 메뉴번호\")\n",
    "메뉴수량 = input(\"2. 메뉴수량\")\n",
    "print(\"주문하신 메뉴는\" ,메뉴번호, \"이고 주문 수량은\" ,메뉴수량,\"그릇이며 주문금액은 \",)\n"
   ]
  },
  {
   "cell_type": "code",
   "execution_count": 5,
   "id": "c5bf0c8c",
   "metadata": {},
   "outputs": [
    {
     "name": "stdout",
     "output_type": "stream",
     "text": [
      "\n",
      "        1.짜장면 - 5,000원 2.짬뽕 -6,000,\n",
      "        3.군만두 - 8,000원 4.탕수육 - 10,000원\n",
      "        1. 위 메뉴 중 주문할 메뉴의 번호를 쓰세요 : 2\n",
      "2. 위 메뉴의 주문 수량을 쓰세요:3\n",
      "주문하신 메뉴는 짬뽕 수량은 3 가격은 18000입니다.\n"
     ]
    }
   ],
   "source": [
    "메뉴번호 = input(''' \n",
    "        1.짜장면 - 5,000원 2.짬뽕 -6,000,\n",
    "        3.군만두 - 8,000원 4.탕수육 - 10,000원\n",
    "        1. 위 메뉴 중 주문할 메뉴의 번호를 쓰세요 : ''')\n",
    "수량 = int(input(\"2. 위 메뉴의 주문 수량을 쓰세요:\")) \n",
    "#\"\"\" 세개 하면 보이는 데로 출력\"\"\"\n",
    "\n",
    "가격 = 0 \n",
    "if 메뉴번호 == \"1\":\n",
    "    가격 = 5000\n",
    "    메뉴이름 = \"짜장면\"\n",
    "elif 메뉴번호 == \"2\":\n",
    "    가격 = 6000\n",
    "    메뉴이름 = \"짬뽕\"\n",
    "elif 메뉴번호 == \"3\":\n",
    "    가격 = 8000\n",
    "    메뉴이름 = \"군만두\"    \n",
    "else :\n",
    "    가격 = 10000\n",
    "    메뉴이름 = \"탕수육\"\n",
    "    \n",
    "print(\"주문하신 메뉴는 %s 수량은 %s 가격은 %s입니다.\"%(메뉴이름, 수량, 가격*수량 ))\n",
    "\n"
   ]
  },
  {
   "cell_type": "code",
   "execution_count": null,
   "id": "2c49ba39",
   "metadata": {},
   "outputs": [
    {
     "name": "stdout",
     "output_type": "stream",
     "text": [
      "\n",
      "        1.짜장면 - 5,000원 2.짬뽕 -6,000,\n",
      "        3.군만두 - 8,000원 4.탕수육 - 10,000원\n",
      "        1. 위 메뉴 중 주문할 메뉴의 번호를 쓰세요 : 1\n",
      "2. 위 메뉴의 주문 수량을 쓰세요:3\n",
      "주문하신 메뉴는 짜장면 수량은 3 가격은 15000입니다.\n"
     ]
    }
   ],
   "source": [
    "다시 = \"y\"\n",
    "주문횟수 = 0\n",
    "\n",
    "while 다시.lower() == \"y\":\n",
    "    주문횟수 += 1\n",
    "    if 주문횟수 >=4:\n",
    "        print(\"재주문 횟수는 3회로 제한합니다.\")\n",
    "        break\n",
    "\n",
    "    메뉴번호 = input('''\n",
    "        1.짜장면 - 5,000원 2.짬뽕 -6,000,\n",
    "        3.군만두 - 8,000원 4.탕수육 - 10,000원\n",
    "        1. 위 메뉴 중 주문할 메뉴의 번호를 쓰세요 : ''')\n",
    "    수량 = int(input(\"2. 위 메뉴의 주문 수량을 쓰세요:\"))\n",
    "\n",
    "    가격 = 0 \n",
    "    if 메뉴번호 == \"1\":\n",
    "        가격 = 5000\n",
    "        메뉴이름 = \"짜장면\"\n",
    "    elif 메뉴번호 == \"2\":\n",
    "        가격 = 6000\n",
    "        메뉴이름 = \"짬뽕\"\n",
    "    elif 메뉴번호 == \"3\":\n",
    "        가격 = 8000\n",
    "        메뉴이름 = \"군만두\"    \n",
    "    else :\n",
    "        가격 = 10000\n",
    "        메뉴이름 = \"탕수육\"\n",
    "\n",
    "    print(\"주문하신 메뉴는 %s 수량은 %s 가격은 %s입니다.\"%(메뉴이름, 수량, 가격*수량 ))\n",
    "\n",
    "\n"
   ]
  },
  {
   "cell_type": "code",
   "execution_count": null,
   "id": "f0a6ad02",
   "metadata": {},
   "outputs": [],
   "source": []
  }
 ],
 "metadata": {
  "kernelspec": {
   "display_name": "Python 3 (ipykernel)",
   "language": "python",
   "name": "python3"
  },
  "language_info": {
   "codemirror_mode": {
    "name": "ipython",
    "version": 3
   },
   "file_extension": ".py",
   "mimetype": "text/x-python",
   "name": "python",
   "nbconvert_exporter": "python",
   "pygments_lexer": "ipython3",
   "version": "3.8.3"
  }
 },
 "nbformat": 4,
 "nbformat_minor": 5
}
